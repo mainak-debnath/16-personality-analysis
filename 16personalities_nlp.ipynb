{
  "nbformat": 4,
  "nbformat_minor": 0,
  "metadata": {
    "orig_nbformat": 4,
    "language_info": {
      "name": "python",
      "version": "3.9.7",
      "mimetype": "text/x-python",
      "codemirror_mode": {
        "name": "ipython",
        "version": 3
      },
      "pygments_lexer": "ipython3",
      "nbconvert_exporter": "python",
      "file_extension": ".py"
    },
    "kernelspec": {
      "name": "python3",
      "display_name": "Python 3.9.7 64-bit (conda)"
    },
    "interpreter": {
      "hash": "c1866a2fb72fb54110f887446cfe8fa2c668e04207a1d0e5c576e7794b878bcf"
    },
    "colab": {
      "name": "16personalities_nlp.ipynb",
      "provenance": [],
      "collapsed_sections": []
    }
  },
  "cells": [
    {
      "cell_type": "markdown",
      "metadata": {
        "id": "qvu7O11QdVy3"
      },
      "source": [
        "# Import relevant libraries"
      ]
    },
    {
      "cell_type": "code",
      "metadata": {
        "id": "qaboJX2kdVy8"
      },
      "source": [
        "import numpy as np\n",
        "import pandas as pd\n",
        "import matplotlib.pyplot as plt\n",
        "import sklearn as sk\n",
        "import nltk\n",
        "import string\n",
        "from sklearn.feature_extraction.text import TfidfVectorizer"
      ],
      "execution_count": 1,
      "outputs": []
    },
    {
      "cell_type": "code",
      "metadata": {
        "colab": {
          "base_uri": "https://localhost:8080/"
        },
        "id": "dGJQqpUydVy9",
        "outputId": "84fccaa9-532e-41a4-c1f0-1249d516e2d3"
      },
      "source": [
        "import nltk\n",
        "nltk.download('stopwords')"
      ],
      "execution_count": 2,
      "outputs": [
        {
          "output_type": "stream",
          "name": "stdout",
          "text": [
            "[nltk_data] Downloading package stopwords to /root/nltk_data...\n",
            "[nltk_data]   Unzipping corpora/stopwords.zip.\n"
          ]
        },
        {
          "output_type": "execute_result",
          "data": {
            "text/plain": [
              "True"
            ]
          },
          "metadata": {},
          "execution_count": 2
        }
      ]
    },
    {
      "cell_type": "code",
      "metadata": {
        "colab": {
          "base_uri": "https://localhost:8080/"
        },
        "id": "YQn4vHBJdVy-",
        "outputId": "529adcc2-68f6-4d84-a1e8-5fb27c5d7d1f"
      },
      "source": [
        "nltk.download('punkt')"
      ],
      "execution_count": 3,
      "outputs": [
        {
          "output_type": "stream",
          "name": "stdout",
          "text": [
            "[nltk_data] Downloading package punkt to /root/nltk_data...\n",
            "[nltk_data]   Unzipping tokenizers/punkt.zip.\n"
          ]
        },
        {
          "output_type": "execute_result",
          "data": {
            "text/plain": [
              "True"
            ]
          },
          "metadata": {},
          "execution_count": 3
        }
      ]
    },
    {
      "cell_type": "code",
      "metadata": {
        "id": "YV9zbPzAdVy_"
      },
      "source": [
        "df1 = pd.read_csv('feature_set.csv')"
      ],
      "execution_count": 4,
      "outputs": []
    },
    {
      "cell_type": "code",
      "metadata": {
        "id": "gNvy8XGzdVy_"
      },
      "source": [
        "df1.drop('Unnamed: 0',axis=1,inplace=True)"
      ],
      "execution_count": 5,
      "outputs": []
    },
    {
      "cell_type": "code",
      "metadata": {
        "colab": {
          "base_uri": "https://localhost:8080/",
          "height": 204
        },
        "id": "hBEFECPAdVzA",
        "outputId": "1eea4fc2-0697-41e4-b5ad-0e5a013ab2f0"
      },
      "source": [
        "df1.head()"
      ],
      "execution_count": 6,
      "outputs": [
        {
          "output_type": "execute_result",
          "data": {
            "text/html": [
              "<div>\n",
              "<style scoped>\n",
              "    .dataframe tbody tr th:only-of-type {\n",
              "        vertical-align: middle;\n",
              "    }\n",
              "\n",
              "    .dataframe tbody tr th {\n",
              "        vertical-align: top;\n",
              "    }\n",
              "\n",
              "    .dataframe thead th {\n",
              "        text-align: right;\n",
              "    }\n",
              "</style>\n",
              "<table border=\"1\" class=\"dataframe\">\n",
              "  <thead>\n",
              "    <tr style=\"text-align: right;\">\n",
              "      <th></th>\n",
              "      <th>transformed_posts</th>\n",
              "      <th>num_words</th>\n",
              "      <th>num_sentences</th>\n",
              "      <th>http_per_comment</th>\n",
              "      <th>words_per_comment</th>\n",
              "      <th>emoticons_per_comment</th>\n",
              "      <th>ttr</th>\n",
              "      <th>nrc_emotion</th>\n",
              "      <th>nrc_vad</th>\n",
              "    </tr>\n",
              "  </thead>\n",
              "  <tbody>\n",
              "    <tr>\n",
              "      <th>0</th>\n",
              "      <td>http enfp intj moment http sportscent top ten ...</td>\n",
              "      <td>790</td>\n",
              "      <td>44</td>\n",
              "      <td>0.48</td>\n",
              "      <td>12.10</td>\n",
              "      <td>0</td>\n",
              "      <td>0.090250</td>\n",
              "      <td>9.375</td>\n",
              "      <td>0</td>\n",
              "    </tr>\n",
              "    <tr>\n",
              "      <th>1</th>\n",
              "      <td>find lack post alarm sex bore posit often exam...</td>\n",
              "      <td>1466</td>\n",
              "      <td>107</td>\n",
              "      <td>0.20</td>\n",
              "      <td>24.38</td>\n",
              "      <td>0</td>\n",
              "      <td>0.089432</td>\n",
              "      <td>17.750</td>\n",
              "      <td>1</td>\n",
              "    </tr>\n",
              "    <tr>\n",
              "      <th>2</th>\n",
              "      <td>one http cours say know bless curs absolut pos...</td>\n",
              "      <td>1067</td>\n",
              "      <td>60</td>\n",
              "      <td>0.10</td>\n",
              "      <td>17.70</td>\n",
              "      <td>0</td>\n",
              "      <td>0.103735</td>\n",
              "      <td>17.125</td>\n",
              "      <td>1</td>\n",
              "    </tr>\n",
              "    <tr>\n",
              "      <th>3</th>\n",
              "      <td>intp enjoy convers day esoter gab natur univer...</td>\n",
              "      <td>1350</td>\n",
              "      <td>99</td>\n",
              "      <td>0.04</td>\n",
              "      <td>22.26</td>\n",
              "      <td>0</td>\n",
              "      <td>0.096549</td>\n",
              "      <td>9.625</td>\n",
              "      <td>0</td>\n",
              "    </tr>\n",
              "    <tr>\n",
              "      <th>4</th>\n",
              "      <td>fire anoth silli misconcept approach logic go ...</td>\n",
              "      <td>1211</td>\n",
              "      <td>93</td>\n",
              "      <td>0.12</td>\n",
              "      <td>20.32</td>\n",
              "      <td>0</td>\n",
              "      <td>0.092466</td>\n",
              "      <td>20.125</td>\n",
              "      <td>0</td>\n",
              "    </tr>\n",
              "  </tbody>\n",
              "</table>\n",
              "</div>"
            ],
            "text/plain": [
              "                                   transformed_posts  ...  nrc_vad\n",
              "0  http enfp intj moment http sportscent top ten ...  ...        0\n",
              "1  find lack post alarm sex bore posit often exam...  ...        1\n",
              "2  one http cours say know bless curs absolut pos...  ...        1\n",
              "3  intp enjoy convers day esoter gab natur univer...  ...        0\n",
              "4  fire anoth silli misconcept approach logic go ...  ...        0\n",
              "\n",
              "[5 rows x 9 columns]"
            ]
          },
          "metadata": {},
          "execution_count": 6
        }
      ]
    },
    {
      "cell_type": "code",
      "metadata": {
        "id": "xXEHREPWdVzA"
      },
      "source": [
        "df2 = pd.read_csv('label_set.csv')"
      ],
      "execution_count": 7,
      "outputs": []
    },
    {
      "cell_type": "code",
      "metadata": {
        "colab": {
          "base_uri": "https://localhost:8080/",
          "height": 204
        },
        "id": "J4YZu71adVzC",
        "outputId": "4af38c29-8a85-4d36-90ba-ee85bdd37b37"
      },
      "source": [
        "df2.head()"
      ],
      "execution_count": 8,
      "outputs": [
        {
          "output_type": "execute_result",
          "data": {
            "text/html": [
              "<div>\n",
              "<style scoped>\n",
              "    .dataframe tbody tr th:only-of-type {\n",
              "        vertical-align: middle;\n",
              "    }\n",
              "\n",
              "    .dataframe tbody tr th {\n",
              "        vertical-align: top;\n",
              "    }\n",
              "\n",
              "    .dataframe thead th {\n",
              "        text-align: right;\n",
              "    }\n",
              "</style>\n",
              "<table border=\"1\" class=\"dataframe\">\n",
              "  <thead>\n",
              "    <tr style=\"text-align: right;\">\n",
              "      <th></th>\n",
              "      <th>Unnamed: 0</th>\n",
              "      <th>I-E</th>\n",
              "      <th>N-S</th>\n",
              "      <th>T-F</th>\n",
              "      <th>J-P</th>\n",
              "    </tr>\n",
              "  </thead>\n",
              "  <tbody>\n",
              "    <tr>\n",
              "      <th>0</th>\n",
              "      <td>0</td>\n",
              "      <td>0</td>\n",
              "      <td>0</td>\n",
              "      <td>1</td>\n",
              "      <td>0</td>\n",
              "    </tr>\n",
              "    <tr>\n",
              "      <th>1</th>\n",
              "      <td>1</td>\n",
              "      <td>1</td>\n",
              "      <td>0</td>\n",
              "      <td>0</td>\n",
              "      <td>1</td>\n",
              "    </tr>\n",
              "    <tr>\n",
              "      <th>2</th>\n",
              "      <td>2</td>\n",
              "      <td>0</td>\n",
              "      <td>0</td>\n",
              "      <td>0</td>\n",
              "      <td>1</td>\n",
              "    </tr>\n",
              "    <tr>\n",
              "      <th>3</th>\n",
              "      <td>3</td>\n",
              "      <td>0</td>\n",
              "      <td>0</td>\n",
              "      <td>0</td>\n",
              "      <td>0</td>\n",
              "    </tr>\n",
              "    <tr>\n",
              "      <th>4</th>\n",
              "      <td>4</td>\n",
              "      <td>1</td>\n",
              "      <td>0</td>\n",
              "      <td>0</td>\n",
              "      <td>0</td>\n",
              "    </tr>\n",
              "  </tbody>\n",
              "</table>\n",
              "</div>"
            ],
            "text/plain": [
              "   Unnamed: 0  I-E  N-S  T-F  J-P\n",
              "0           0    0    0    1    0\n",
              "1           1    1    0    0    1\n",
              "2           2    0    0    0    1\n",
              "3           3    0    0    0    0\n",
              "4           4    1    0    0    0"
            ]
          },
          "metadata": {},
          "execution_count": 8
        }
      ]
    },
    {
      "cell_type": "code",
      "metadata": {
        "id": "qK7nQ6kpdVzD"
      },
      "source": [
        "df2.drop('Unnamed: 0',axis=1,inplace=True)"
      ],
      "execution_count": 9,
      "outputs": []
    },
    {
      "cell_type": "code",
      "metadata": {
        "colab": {
          "base_uri": "https://localhost:8080/",
          "height": 204
        },
        "id": "wC3dN_OkdVzD",
        "outputId": "bc3f38ba-f5fe-4556-916b-80f9c697d9dd"
      },
      "source": [
        "df2.head()"
      ],
      "execution_count": 10,
      "outputs": [
        {
          "output_type": "execute_result",
          "data": {
            "text/html": [
              "<div>\n",
              "<style scoped>\n",
              "    .dataframe tbody tr th:only-of-type {\n",
              "        vertical-align: middle;\n",
              "    }\n",
              "\n",
              "    .dataframe tbody tr th {\n",
              "        vertical-align: top;\n",
              "    }\n",
              "\n",
              "    .dataframe thead th {\n",
              "        text-align: right;\n",
              "    }\n",
              "</style>\n",
              "<table border=\"1\" class=\"dataframe\">\n",
              "  <thead>\n",
              "    <tr style=\"text-align: right;\">\n",
              "      <th></th>\n",
              "      <th>I-E</th>\n",
              "      <th>N-S</th>\n",
              "      <th>T-F</th>\n",
              "      <th>J-P</th>\n",
              "    </tr>\n",
              "  </thead>\n",
              "  <tbody>\n",
              "    <tr>\n",
              "      <th>0</th>\n",
              "      <td>0</td>\n",
              "      <td>0</td>\n",
              "      <td>1</td>\n",
              "      <td>0</td>\n",
              "    </tr>\n",
              "    <tr>\n",
              "      <th>1</th>\n",
              "      <td>1</td>\n",
              "      <td>0</td>\n",
              "      <td>0</td>\n",
              "      <td>1</td>\n",
              "    </tr>\n",
              "    <tr>\n",
              "      <th>2</th>\n",
              "      <td>0</td>\n",
              "      <td>0</td>\n",
              "      <td>0</td>\n",
              "      <td>1</td>\n",
              "    </tr>\n",
              "    <tr>\n",
              "      <th>3</th>\n",
              "      <td>0</td>\n",
              "      <td>0</td>\n",
              "      <td>0</td>\n",
              "      <td>0</td>\n",
              "    </tr>\n",
              "    <tr>\n",
              "      <th>4</th>\n",
              "      <td>1</td>\n",
              "      <td>0</td>\n",
              "      <td>0</td>\n",
              "      <td>0</td>\n",
              "    </tr>\n",
              "  </tbody>\n",
              "</table>\n",
              "</div>"
            ],
            "text/plain": [
              "   I-E  N-S  T-F  J-P\n",
              "0    0    0    1    0\n",
              "1    1    0    0    1\n",
              "2    0    0    0    1\n",
              "3    0    0    0    0\n",
              "4    1    0    0    0"
            ]
          },
          "metadata": {},
          "execution_count": 10
        }
      ]
    },
    {
      "cell_type": "code",
      "metadata": {
        "id": "dDgM5PB5dVzD"
      },
      "source": [
        "tfidf = TfidfVectorizer(max_features=10000)\n",
        "vectorised_posts = tfidf.fit_transform(df1['transformed_posts']).toarray()"
      ],
      "execution_count": 11,
      "outputs": []
    },
    {
      "cell_type": "code",
      "metadata": {
        "colab": {
          "base_uri": "https://localhost:8080/"
        },
        "id": "7i_o2bNEdVzE",
        "outputId": "a7fae6a5-7589-4497-f434-0b78dc0d248d"
      },
      "source": [
        "vectorised_posts.shape"
      ],
      "execution_count": 12,
      "outputs": [
        {
          "output_type": "execute_result",
          "data": {
            "text/plain": [
              "(8675, 10000)"
            ]
          },
          "metadata": {},
          "execution_count": 12
        }
      ]
    },
    {
      "cell_type": "code",
      "metadata": {
        "id": "lGBAvCtzdVzI"
      },
      "source": [
        "y_ie = df2['I-E'].values\n",
        "y_ns = df2['N-S'].values\n",
        "y_tf = df2['T-F'].values\n",
        "y_jp = df2['J-P'].values"
      ],
      "execution_count": 13,
      "outputs": []
    },
    {
      "cell_type": "code",
      "metadata": {
        "id": "tffEuQwwdVzI",
        "outputId": "bfd52823-0c64-4d6a-94eb-b0d505cc611b"
      },
      "source": [
        "\n",
        "type(y_ie)"
      ],
      "execution_count": null,
      "outputs": [
        {
          "output_type": "execute_result",
          "data": {
            "text/plain": [
              "numpy.ndarray"
            ]
          },
          "metadata": {},
          "execution_count": 194
        }
      ]
    },
    {
      "cell_type": "code",
      "metadata": {
        "colab": {
          "base_uri": "https://localhost:8080/",
          "height": 374
        },
        "id": "-RbmwWMedVzI",
        "outputId": "ba3abcef-fdee-46bb-cdbe-013b6b84fa57"
      },
      "source": [
        "from sklearn.model_selection import train_test_split\n",
        "X_train_ie,X_test_ie,y_train_ie,y_test_ie = train_test_split(X,y_ie,test_size=0.33,random_state=2)\n",
        "X_train_ns,X_test_ns,y_train_ns,y_test_ns = train_test_split(X,y_ns,test_size=0.33,random_state=2)\n",
        "X_train_tf,X_test_tf,y_train_tf,y_test_tf = train_test_split(X,y_tf,test_size=0.33,random_state=2)\n",
        "X_train_jp,X_test_jp,y_train_jp,y_test_jp = train_test_split(X,y_jp,test_size=0.33,random_state=2)"
      ],
      "execution_count": 23,
      "outputs": [
        {
          "output_type": "error",
          "ename": "ValueError",
          "evalue": "ignored",
          "traceback": [
            "\u001b[0;31m---------------------------------------------------------------------------\u001b[0m",
            "\u001b[0;31mValueError\u001b[0m                                Traceback (most recent call last)",
            "\u001b[0;32m<ipython-input-23-8ccdabfecaee>\u001b[0m in \u001b[0;36m<module>\u001b[0;34m()\u001b[0m\n\u001b[1;32m      1\u001b[0m \u001b[0;32mfrom\u001b[0m \u001b[0msklearn\u001b[0m\u001b[0;34m.\u001b[0m\u001b[0mmodel_selection\u001b[0m \u001b[0;32mimport\u001b[0m \u001b[0mtrain_test_split\u001b[0m\u001b[0;34m\u001b[0m\u001b[0;34m\u001b[0m\u001b[0m\n\u001b[0;32m----> 2\u001b[0;31m \u001b[0mX_train_ie\u001b[0m\u001b[0;34m,\u001b[0m\u001b[0mX_test_ie\u001b[0m\u001b[0;34m,\u001b[0m\u001b[0my_train_ie\u001b[0m\u001b[0;34m,\u001b[0m\u001b[0my_test_ie\u001b[0m \u001b[0;34m=\u001b[0m \u001b[0mtrain_test_split\u001b[0m\u001b[0;34m(\u001b[0m\u001b[0mX\u001b[0m\u001b[0;34m,\u001b[0m\u001b[0my_ie\u001b[0m\u001b[0;34m,\u001b[0m\u001b[0mtest_size\u001b[0m\u001b[0;34m=\u001b[0m\u001b[0;36m0.33\u001b[0m\u001b[0;34m,\u001b[0m\u001b[0mrandom_state\u001b[0m\u001b[0;34m=\u001b[0m\u001b[0;36m2\u001b[0m\u001b[0;34m)\u001b[0m\u001b[0;34m\u001b[0m\u001b[0;34m\u001b[0m\u001b[0m\n\u001b[0m\u001b[1;32m      3\u001b[0m \u001b[0mX_train_ns\u001b[0m\u001b[0;34m,\u001b[0m\u001b[0mX_test_ns\u001b[0m\u001b[0;34m,\u001b[0m\u001b[0my_train_ns\u001b[0m\u001b[0;34m,\u001b[0m\u001b[0my_test_ns\u001b[0m \u001b[0;34m=\u001b[0m \u001b[0mtrain_test_split\u001b[0m\u001b[0;34m(\u001b[0m\u001b[0mX\u001b[0m\u001b[0;34m,\u001b[0m\u001b[0my_ns\u001b[0m\u001b[0;34m,\u001b[0m\u001b[0mtest_size\u001b[0m\u001b[0;34m=\u001b[0m\u001b[0;36m0.33\u001b[0m\u001b[0;34m,\u001b[0m\u001b[0mrandom_state\u001b[0m\u001b[0;34m=\u001b[0m\u001b[0;36m2\u001b[0m\u001b[0;34m)\u001b[0m\u001b[0;34m\u001b[0m\u001b[0;34m\u001b[0m\u001b[0m\n\u001b[1;32m      4\u001b[0m \u001b[0mX_train_tf\u001b[0m\u001b[0;34m,\u001b[0m\u001b[0mX_test_tf\u001b[0m\u001b[0;34m,\u001b[0m\u001b[0my_train_tf\u001b[0m\u001b[0;34m,\u001b[0m\u001b[0my_test_tf\u001b[0m \u001b[0;34m=\u001b[0m \u001b[0mtrain_test_split\u001b[0m\u001b[0;34m(\u001b[0m\u001b[0mX\u001b[0m\u001b[0;34m,\u001b[0m\u001b[0my_tf\u001b[0m\u001b[0;34m,\u001b[0m\u001b[0mtest_size\u001b[0m\u001b[0;34m=\u001b[0m\u001b[0;36m0.33\u001b[0m\u001b[0;34m,\u001b[0m\u001b[0mrandom_state\u001b[0m\u001b[0;34m=\u001b[0m\u001b[0;36m2\u001b[0m\u001b[0;34m)\u001b[0m\u001b[0;34m\u001b[0m\u001b[0;34m\u001b[0m\u001b[0m\n\u001b[1;32m      5\u001b[0m \u001b[0mX_train_jp\u001b[0m\u001b[0;34m,\u001b[0m\u001b[0mX_test_jp\u001b[0m\u001b[0;34m,\u001b[0m\u001b[0my_train_jp\u001b[0m\u001b[0;34m,\u001b[0m\u001b[0my_test_jp\u001b[0m \u001b[0;34m=\u001b[0m \u001b[0mtrain_test_split\u001b[0m\u001b[0;34m(\u001b[0m\u001b[0mX\u001b[0m\u001b[0;34m,\u001b[0m\u001b[0my_jp\u001b[0m\u001b[0;34m,\u001b[0m\u001b[0mtest_size\u001b[0m\u001b[0;34m=\u001b[0m\u001b[0;36m0.33\u001b[0m\u001b[0;34m,\u001b[0m\u001b[0mrandom_state\u001b[0m\u001b[0;34m=\u001b[0m\u001b[0;36m2\u001b[0m\u001b[0;34m)\u001b[0m\u001b[0;34m\u001b[0m\u001b[0;34m\u001b[0m\u001b[0m\n",
            "\u001b[0;32m/usr/local/lib/python3.7/dist-packages/sklearn/model_selection/_split.py\u001b[0m in \u001b[0;36mtrain_test_split\u001b[0;34m(*arrays, **options)\u001b[0m\n\u001b[1;32m   2116\u001b[0m         \u001b[0;32mraise\u001b[0m \u001b[0mTypeError\u001b[0m\u001b[0;34m(\u001b[0m\u001b[0;34m\"Invalid parameters passed: %s\"\u001b[0m \u001b[0;34m%\u001b[0m \u001b[0mstr\u001b[0m\u001b[0;34m(\u001b[0m\u001b[0moptions\u001b[0m\u001b[0;34m)\u001b[0m\u001b[0;34m)\u001b[0m\u001b[0;34m\u001b[0m\u001b[0;34m\u001b[0m\u001b[0m\n\u001b[1;32m   2117\u001b[0m \u001b[0;34m\u001b[0m\u001b[0m\n\u001b[0;32m-> 2118\u001b[0;31m     \u001b[0marrays\u001b[0m \u001b[0;34m=\u001b[0m \u001b[0mindexable\u001b[0m\u001b[0;34m(\u001b[0m\u001b[0;34m*\u001b[0m\u001b[0marrays\u001b[0m\u001b[0;34m)\u001b[0m\u001b[0;34m\u001b[0m\u001b[0;34m\u001b[0m\u001b[0m\n\u001b[0m\u001b[1;32m   2119\u001b[0m \u001b[0;34m\u001b[0m\u001b[0m\n\u001b[1;32m   2120\u001b[0m     \u001b[0mn_samples\u001b[0m \u001b[0;34m=\u001b[0m \u001b[0m_num_samples\u001b[0m\u001b[0;34m(\u001b[0m\u001b[0marrays\u001b[0m\u001b[0;34m[\u001b[0m\u001b[0;36m0\u001b[0m\u001b[0;34m]\u001b[0m\u001b[0;34m)\u001b[0m\u001b[0;34m\u001b[0m\u001b[0;34m\u001b[0m\u001b[0m\n",
            "\u001b[0;32m/usr/local/lib/python3.7/dist-packages/sklearn/utils/validation.py\u001b[0m in \u001b[0;36mindexable\u001b[0;34m(*iterables)\u001b[0m\n\u001b[1;32m    246\u001b[0m     \"\"\"\n\u001b[1;32m    247\u001b[0m     \u001b[0mresult\u001b[0m \u001b[0;34m=\u001b[0m \u001b[0;34m[\u001b[0m\u001b[0m_make_indexable\u001b[0m\u001b[0;34m(\u001b[0m\u001b[0mX\u001b[0m\u001b[0;34m)\u001b[0m \u001b[0;32mfor\u001b[0m \u001b[0mX\u001b[0m \u001b[0;32min\u001b[0m \u001b[0miterables\u001b[0m\u001b[0;34m]\u001b[0m\u001b[0;34m\u001b[0m\u001b[0;34m\u001b[0m\u001b[0m\n\u001b[0;32m--> 248\u001b[0;31m     \u001b[0mcheck_consistent_length\u001b[0m\u001b[0;34m(\u001b[0m\u001b[0;34m*\u001b[0m\u001b[0mresult\u001b[0m\u001b[0;34m)\u001b[0m\u001b[0;34m\u001b[0m\u001b[0;34m\u001b[0m\u001b[0m\n\u001b[0m\u001b[1;32m    249\u001b[0m     \u001b[0;32mreturn\u001b[0m \u001b[0mresult\u001b[0m\u001b[0;34m\u001b[0m\u001b[0;34m\u001b[0m\u001b[0m\n\u001b[1;32m    250\u001b[0m \u001b[0;34m\u001b[0m\u001b[0m\n",
            "\u001b[0;32m/usr/local/lib/python3.7/dist-packages/sklearn/utils/validation.py\u001b[0m in \u001b[0;36mcheck_consistent_length\u001b[0;34m(*arrays)\u001b[0m\n\u001b[1;32m    210\u001b[0m     \u001b[0;32mif\u001b[0m \u001b[0mlen\u001b[0m\u001b[0;34m(\u001b[0m\u001b[0muniques\u001b[0m\u001b[0;34m)\u001b[0m \u001b[0;34m>\u001b[0m \u001b[0;36m1\u001b[0m\u001b[0;34m:\u001b[0m\u001b[0;34m\u001b[0m\u001b[0;34m\u001b[0m\u001b[0m\n\u001b[1;32m    211\u001b[0m         raise ValueError(\"Found input variables with inconsistent numbers of\"\n\u001b[0;32m--> 212\u001b[0;31m                          \" samples: %r\" % [int(l) for l in lengths])\n\u001b[0m\u001b[1;32m    213\u001b[0m \u001b[0;34m\u001b[0m\u001b[0m\n\u001b[1;32m    214\u001b[0m \u001b[0;34m\u001b[0m\u001b[0m\n",
            "\u001b[0;31mValueError\u001b[0m: Found input variables with inconsistent numbers of samples: [296, 8675]"
          ]
        }
      ]
    },
    {
      "cell_type": "code",
      "metadata": {
        "id": "lnwONP09dVzJ",
        "outputId": "81400a8d-f91f-4658-b003-bc44bfdf3a0a"
      },
      "source": [
        "type(df1['ttr'][0])"
      ],
      "execution_count": null,
      "outputs": [
        {
          "output_type": "execute_result",
          "data": {
            "text/plain": [
              "numpy.float64"
            ]
          },
          "metadata": {},
          "execution_count": 165
        }
      ]
    },
    {
      "cell_type": "code",
      "metadata": {
        "id": "PSxOXALPdVzJ",
        "outputId": "e68322af-cd42-4b92-8c9f-6975d4887ae7"
      },
      "source": [
        "type(df1['vectorised_col'][0])"
      ],
      "execution_count": null,
      "outputs": [
        {
          "output_type": "execute_result",
          "data": {
            "text/plain": [
              "numpy.ndarray"
            ]
          },
          "metadata": {},
          "execution_count": 166
        }
      ]
    },
    {
      "cell_type": "code",
      "metadata": {
        "id": "Yycn1SC_dVzJ",
        "outputId": "bee50b75-ca91-42b9-d4e3-daa959a8784a"
      },
      "source": [
        "X_train_ie"
      ],
      "execution_count": null,
      "outputs": [
        {
          "output_type": "execute_result",
          "data": {
            "text/html": [
              "<div>\n",
              "<style scoped>\n",
              "    .dataframe tbody tr th:only-of-type {\n",
              "        vertical-align: middle;\n",
              "    }\n",
              "\n",
              "    .dataframe tbody tr th {\n",
              "        vertical-align: top;\n",
              "    }\n",
              "\n",
              "    .dataframe thead th {\n",
              "        text-align: right;\n",
              "    }\n",
              "</style>\n",
              "<table border=\"1\" class=\"dataframe\">\n",
              "  <thead>\n",
              "    <tr style=\"text-align: right;\">\n",
              "      <th></th>\n",
              "      <th>num_words</th>\n",
              "      <th>num_sentences</th>\n",
              "      <th>http_per_comment</th>\n",
              "      <th>words_per_comment</th>\n",
              "      <th>emoticons_per_comment</th>\n",
              "      <th>ttr</th>\n",
              "      <th>nrc_emotion</th>\n",
              "      <th>nrc_vad</th>\n",
              "      <th>vectorised_col</th>\n",
              "    </tr>\n",
              "  </thead>\n",
              "  <tbody>\n",
              "    <tr>\n",
              "      <th>6886</th>\n",
              "      <td>1175</td>\n",
              "      <td>64</td>\n",
              "      <td>0.06</td>\n",
              "      <td>20.10</td>\n",
              "      <td>0</td>\n",
              "      <td>0.089068</td>\n",
              "      <td>14.625</td>\n",
              "      <td>1</td>\n",
              "      <td>[0.0, 0.0, 0.0, 0.0, 0.0, 0.0, 0.0, 0.0, 0.0, ...</td>\n",
              "    </tr>\n",
              "    <tr>\n",
              "      <th>1892</th>\n",
              "      <td>1655</td>\n",
              "      <td>94</td>\n",
              "      <td>0.02</td>\n",
              "      <td>28.64</td>\n",
              "      <td>0</td>\n",
              "      <td>0.084172</td>\n",
              "      <td>15.875</td>\n",
              "      <td>0</td>\n",
              "      <td>[0.0, 0.0, 0.0, 0.0, 0.0, 0.0, 0.0, 0.0, 0.0, ...</td>\n",
              "    </tr>\n",
              "    <tr>\n",
              "      <th>7228</th>\n",
              "      <td>1868</td>\n",
              "      <td>103</td>\n",
              "      <td>0.00</td>\n",
              "      <td>31.44</td>\n",
              "      <td>0</td>\n",
              "      <td>0.083363</td>\n",
              "      <td>26.375</td>\n",
              "      <td>1</td>\n",
              "      <td>[0.0, 0.0, 0.0, 0.0, 0.0, 0.0, 0.0, 0.0, 0.0, ...</td>\n",
              "    </tr>\n",
              "    <tr>\n",
              "      <th>2667</th>\n",
              "      <td>1918</td>\n",
              "      <td>143</td>\n",
              "      <td>0.00</td>\n",
              "      <td>30.96</td>\n",
              "      <td>0</td>\n",
              "      <td>0.088615</td>\n",
              "      <td>23.250</td>\n",
              "      <td>3</td>\n",
              "      <td>[0.0, 0.0, 0.0, 0.0, 0.0, 0.0, 0.0, 0.0, 0.0, ...</td>\n",
              "    </tr>\n",
              "    <tr>\n",
              "      <th>3591</th>\n",
              "      <td>1777</td>\n",
              "      <td>105</td>\n",
              "      <td>0.04</td>\n",
              "      <td>30.26</td>\n",
              "      <td>0</td>\n",
              "      <td>0.079279</td>\n",
              "      <td>25.625</td>\n",
              "      <td>6</td>\n",
              "      <td>[0.0, 0.0, 0.0, 0.0, 0.0, 0.0, 0.0, 0.0, 0.0, ...</td>\n",
              "    </tr>\n",
              "    <tr>\n",
              "      <th>...</th>\n",
              "      <td>...</td>\n",
              "      <td>...</td>\n",
              "      <td>...</td>\n",
              "      <td>...</td>\n",
              "      <td>...</td>\n",
              "      <td>...</td>\n",
              "      <td>...</td>\n",
              "      <td>...</td>\n",
              "      <td>...</td>\n",
              "    </tr>\n",
              "    <tr>\n",
              "      <th>1099</th>\n",
              "      <td>703</td>\n",
              "      <td>23</td>\n",
              "      <td>0.02</td>\n",
              "      <td>12.48</td>\n",
              "      <td>0</td>\n",
              "      <td>0.099370</td>\n",
              "      <td>8.375</td>\n",
              "      <td>1</td>\n",
              "      <td>[0.0, 0.0, 0.0, 0.0, 0.0, 0.0, 0.0, 0.0, 0.0, ...</td>\n",
              "    </tr>\n",
              "    <tr>\n",
              "      <th>2514</th>\n",
              "      <td>1303</td>\n",
              "      <td>110</td>\n",
              "      <td>0.00</td>\n",
              "      <td>21.86</td>\n",
              "      <td>0</td>\n",
              "      <td>0.104001</td>\n",
              "      <td>25.875</td>\n",
              "      <td>1</td>\n",
              "      <td>[0.0, 0.0, 0.0, 0.0, 0.0, 0.0, 0.0, 0.0, 0.0, ...</td>\n",
              "    </tr>\n",
              "    <tr>\n",
              "      <th>6637</th>\n",
              "      <td>1597</td>\n",
              "      <td>80</td>\n",
              "      <td>0.00</td>\n",
              "      <td>27.00</td>\n",
              "      <td>0</td>\n",
              "      <td>0.091440</td>\n",
              "      <td>23.000</td>\n",
              "      <td>1</td>\n",
              "      <td>[0.0, 0.0, 0.0, 0.0, 0.0, 0.0, 0.0, 0.0, 0.0, ...</td>\n",
              "    </tr>\n",
              "    <tr>\n",
              "      <th>2575</th>\n",
              "      <td>1506</td>\n",
              "      <td>98</td>\n",
              "      <td>0.00</td>\n",
              "      <td>25.18</td>\n",
              "      <td>0</td>\n",
              "      <td>0.086852</td>\n",
              "      <td>14.500</td>\n",
              "      <td>13</td>\n",
              "      <td>[0.0, 0.0, 0.0, 0.0, 0.0, 0.0, 0.0, 0.0, 0.0, ...</td>\n",
              "    </tr>\n",
              "    <tr>\n",
              "      <th>7336</th>\n",
              "      <td>852</td>\n",
              "      <td>32</td>\n",
              "      <td>0.72</td>\n",
              "      <td>10.96</td>\n",
              "      <td>0</td>\n",
              "      <td>0.077706</td>\n",
              "      <td>8.375</td>\n",
              "      <td>1</td>\n",
              "      <td>[0.0, 0.0, 0.0, 0.0, 0.0, 0.0, 0.0, 0.0, 0.0, ...</td>\n",
              "    </tr>\n",
              "  </tbody>\n",
              "</table>\n",
              "<p>5812 rows × 9 columns</p>\n",
              "</div>"
            ],
            "text/plain": [
              "      num_words  num_sentences  http_per_comment  words_per_comment  \\\n",
              "6886       1175             64              0.06              20.10   \n",
              "1892       1655             94              0.02              28.64   \n",
              "7228       1868            103              0.00              31.44   \n",
              "2667       1918            143              0.00              30.96   \n",
              "3591       1777            105              0.04              30.26   \n",
              "...         ...            ...               ...                ...   \n",
              "1099        703             23              0.02              12.48   \n",
              "2514       1303            110              0.00              21.86   \n",
              "6637       1597             80              0.00              27.00   \n",
              "2575       1506             98              0.00              25.18   \n",
              "7336        852             32              0.72              10.96   \n",
              "\n",
              "      emoticons_per_comment       ttr  nrc_emotion  nrc_vad  \\\n",
              "6886                      0  0.089068       14.625        1   \n",
              "1892                      0  0.084172       15.875        0   \n",
              "7228                      0  0.083363       26.375        1   \n",
              "2667                      0  0.088615       23.250        3   \n",
              "3591                      0  0.079279       25.625        6   \n",
              "...                     ...       ...          ...      ...   \n",
              "1099                      0  0.099370        8.375        1   \n",
              "2514                      0  0.104001       25.875        1   \n",
              "6637                      0  0.091440       23.000        1   \n",
              "2575                      0  0.086852       14.500       13   \n",
              "7336                      0  0.077706        8.375        1   \n",
              "\n",
              "                                         vectorised_col  \n",
              "6886  [0.0, 0.0, 0.0, 0.0, 0.0, 0.0, 0.0, 0.0, 0.0, ...  \n",
              "1892  [0.0, 0.0, 0.0, 0.0, 0.0, 0.0, 0.0, 0.0, 0.0, ...  \n",
              "7228  [0.0, 0.0, 0.0, 0.0, 0.0, 0.0, 0.0, 0.0, 0.0, ...  \n",
              "2667  [0.0, 0.0, 0.0, 0.0, 0.0, 0.0, 0.0, 0.0, 0.0, ...  \n",
              "3591  [0.0, 0.0, 0.0, 0.0, 0.0, 0.0, 0.0, 0.0, 0.0, ...  \n",
              "...                                                 ...  \n",
              "1099  [0.0, 0.0, 0.0, 0.0, 0.0, 0.0, 0.0, 0.0, 0.0, ...  \n",
              "2514  [0.0, 0.0, 0.0, 0.0, 0.0, 0.0, 0.0, 0.0, 0.0, ...  \n",
              "6637  [0.0, 0.0, 0.0, 0.0, 0.0, 0.0, 0.0, 0.0, 0.0, ...  \n",
              "2575  [0.0, 0.0, 0.0, 0.0, 0.0, 0.0, 0.0, 0.0, 0.0, ...  \n",
              "7336  [0.0, 0.0, 0.0, 0.0, 0.0, 0.0, 0.0, 0.0, 0.0, ...  \n",
              "\n",
              "[5812 rows x 9 columns]"
            ]
          },
          "metadata": {},
          "execution_count": 163
        }
      ]
    },
    {
      "cell_type": "code",
      "metadata": {
        "id": "1wInYboCdVzJ"
      },
      "source": [
        "from sklearn.linear_model import LogisticRegression\n",
        "from sklearn.svm import SVC\n",
        "from sklearn.naive_bayes import MultinomialNB\n",
        "from sklearn.tree import DecisionTreeClassifier\n",
        "from sklearn.neighbors import KNeighborsClassifier\n",
        "from sklearn.ensemble import RandomForestClassifier\n",
        "from sklearn.ensemble import AdaBoostClassifier\n",
        "from sklearn.ensemble import BaggingClassifier\n",
        "from sklearn.ensemble import ExtraTreesClassifier\n",
        "from sklearn.ensemble import GradientBoostingClassifier\n",
        "from xgboost import XGBClassifier"
      ],
      "execution_count": 14,
      "outputs": []
    },
    {
      "cell_type": "code",
      "metadata": {
        "id": "RsLdwrPJdVzK"
      },
      "source": [
        "knc = KNeighborsClassifier()\n",
        "mnb = MultinomialNB()\n",
        "dtc = DecisionTreeClassifier(max_depth=5)\n",
        "lrc = LogisticRegression(solver='liblinear', penalty='l1')\n",
        "rfc = RandomForestClassifier(n_estimators=50, random_state=2)\n",
        "etc = ExtraTreesClassifier(n_estimators=50, random_state=2)\n",
        "xgb = XGBClassifier(n_estimators=50,random_state=2)"
      ],
      "execution_count": 15,
      "outputs": []
    },
    {
      "cell_type": "code",
      "metadata": {
        "id": "bSapdGi7dVzK"
      },
      "source": [
        "clfs = {\n",
        "    'KN' : knc, \n",
        "    'NB': mnb, \n",
        "    'DT': dtc, \n",
        "    'LR': lrc, \n",
        "    'RF': rfc, \n",
        "    'ETC': etc,\n",
        "    'xgb':xgb\n",
        "}"
      ],
      "execution_count": 16,
      "outputs": []
    },
    {
      "cell_type": "code",
      "metadata": {
        "id": "wXNf9J0KdVzL"
      },
      "source": [
        "from sklearn.metrics import accuracy_score,confusion_matrix,precision_score\n",
        "def train_classifier(clf,X_train,y_train,X_test,y_test):\n",
        "    clf.fit(X_train,y_train)\n",
        "    y_pred = clf.predict(X_test)\n",
        "    accuracy = accuracy_score(y_test,y_pred)\n",
        "    precision = precision_score(y_test,y_pred)\n",
        "    cm = confusion_matrix(y_test,y_pred)\n",
        "    return accuracy,precision,cm"
      ],
      "execution_count": 17,
      "outputs": []
    },
    {
      "cell_type": "code",
      "metadata": {
        "id": "5is1v5H8dVzL"
      },
      "source": [
        "train_classifier(mnb,X_train_ie,y_train_ie,X_test_ie,y_test_ie)"
      ],
      "execution_count": null,
      "outputs": []
    },
    {
      "cell_type": "code",
      "metadata": {
        "id": "ULwwYWgKdVzL"
      },
      "source": [
        "X1 = vectorised_posts"
      ],
      "execution_count": 18,
      "outputs": []
    },
    {
      "cell_type": "code",
      "metadata": {
        "id": "2wn5z1VjdVzL",
        "outputId": "7c9e04b7-ab34-43d7-8f66-ab69bf72b328"
      },
      "source": [
        "X1[0]"
      ],
      "execution_count": null,
      "outputs": [
        {
          "output_type": "execute_result",
          "data": {
            "text/plain": [
              "array([0., 0., 0., ..., 0., 0., 0.])"
            ]
          },
          "metadata": {},
          "execution_count": 153
        }
      ]
    },
    {
      "cell_type": "code",
      "metadata": {
        "id": "laJPMP5kdVzL"
      },
      "source": [
        "from sklearn.model_selection import train_test_split\n",
        "X1_train,X1_test,y_train_ie,y_test_ie = train_test_split(X1,y_ie,test_size=0.33,random_state=2)"
      ],
      "execution_count": 19,
      "outputs": []
    },
    {
      "cell_type": "code",
      "metadata": {
        "id": "IcBLR4g3dVzM",
        "outputId": "ee6858b0-355e-408e-f59a-ee57363d9292"
      },
      "source": [
        "train_classifier(mnb,X1_train,y_train_ie,X1_test,y_test_ie)"
      ],
      "execution_count": null,
      "outputs": [
        {
          "output_type": "execute_result",
          "data": {
            "text/plain": [
              "(0.773663988822913,\n",
              " 0.8571428571428571,\n",
              " array([[2209,    1],\n",
              "        [ 647,    6]], dtype=int64))"
            ]
          },
          "metadata": {},
          "execution_count": 198
        }
      ]
    },
    {
      "cell_type": "code",
      "metadata": {
        "id": "is0VuZiddVzM",
        "outputId": "e4cee27e-eaf2-4d83-b613-f3f7652e7492"
      },
      "source": [
        "train_classifier(lrc,X1_train,y_train_ie,X1_test,y_test_ie)"
      ],
      "execution_count": null,
      "outputs": [
        {
          "output_type": "execute_result",
          "data": {
            "text/plain": [
              "(0.851903597624869,\n",
              " 0.7681498829039812,\n",
              " array([[2111,   99],\n",
              "        [ 325,  328]], dtype=int64))"
            ]
          },
          "metadata": {},
          "execution_count": 199
        }
      ]
    },
    {
      "cell_type": "code",
      "metadata": {
        "id": "vYDVvj_YdVzM"
      },
      "source": [
        "train_classifier(xgb,X1_train,y_train_ie,X1_test,y_test_ie)"
      ],
      "execution_count": null,
      "outputs": []
    },
    {
      "cell_type": "code",
      "metadata": {
        "id": "_elNj-drdVzM"
      },
      "source": [
        "X2_train,X2_test,y_train_ns,y_test_ns = train_test_split(X1,y_ns,test_size=0.33,random_state=2)"
      ],
      "execution_count": null,
      "outputs": []
    },
    {
      "cell_type": "code",
      "metadata": {
        "id": "3r0lYCL4dVzM",
        "outputId": "82bd9278-536f-4fa1-88d8-9080dd5bfd7f"
      },
      "source": [
        "train_classifier(lrc,X2_train,y_train_ns,X2_test,y_test_ns)"
      ],
      "execution_count": null,
      "outputs": [
        {
          "output_type": "execute_result",
          "data": {
            "text/plain": [
              "(0.9109325881942019,\n",
              " 0.7864583333333334,\n",
              " array([[2457,   41],\n",
              "        [ 214,  151]], dtype=int64))"
            ]
          },
          "metadata": {},
          "execution_count": 202
        }
      ]
    },
    {
      "cell_type": "code",
      "metadata": {
        "id": "6mz1Dp3YdVzN",
        "outputId": "cc0c416d-feea-4a6c-b5c8-4c8d2419f954"
      },
      "source": [
        "train_classifier(xgb,X2_train,y_train_ns,X2_test,y_test_ns)"
      ],
      "execution_count": null,
      "outputs": [
        {
          "output_type": "stream",
          "name": "stderr",
          "text": [
            "D:\\16 personality analysis\\personality\\lib\\site-packages\\xgboost\\sklearn.py:888: UserWarning: The use of label encoder in XGBClassifier is deprecated and will be removed in a future release. To remove this warning, do the following: 1) Pass option use_label_encoder=False when constructing XGBClassifier object; and 2) Encode your labels (y) as integers starting with 0, i.e. 0, 1, 2, ..., [num_class - 1].\n",
            "  warnings.warn(label_encoder_deprecation_msg, UserWarning)\n"
          ]
        },
        {
          "output_type": "stream",
          "name": "stdout",
          "text": [
            "[14:50:11] WARNING: ..\\src\\learner.cc:1061: Starting in XGBoost 1.3.0, the default evaluation metric used with the objective 'binary:logistic' was changed from 'error' to 'logloss'. Explicitly set eval_metric if you'd like to restore the old behavior.\n"
          ]
        },
        {
          "output_type": "execute_result",
          "data": {
            "text/plain": [
              "(0.9070904645476773,\n",
              " 0.728110599078341,\n",
              " array([[2439,   59],\n",
              "        [ 207,  158]], dtype=int64))"
            ]
          },
          "metadata": {},
          "execution_count": 203
        }
      ]
    },
    {
      "cell_type": "code",
      "metadata": {
        "colab": {
          "base_uri": "https://localhost:8080/"
        },
        "id": "WsHAvzbvdVzN",
        "outputId": "a6d4a5ae-9d84-4b51-df3e-8a4b09cc0d04"
      },
      "source": [
        "accuracy_scores = []\n",
        "precision_scores = []\n",
        "\n",
        "for name,clf in clfs.items():\n",
        "    \n",
        "    current_accuracy,current_precision, current_cm = train_classifier(clf, X1_train,y_train_ie,X1_test,y_test_ie)\n",
        "    \n",
        "    print(\"For \",name)\n",
        "    print(\"Accuracy - \",current_accuracy)\n",
        "    print(\"Precision - \",current_precision)\n",
        "    print(\"Confusion Matrix - \\n\", current_cm)\n",
        "\n",
        "    accuracy_scores.append(current_accuracy)\n",
        "    precision_scores.append(current_precision)"
      ],
      "execution_count": 20,
      "outputs": [
        {
          "output_type": "stream",
          "name": "stdout",
          "text": [
            "For  KN\n",
            "Accuracy -  0.7995110024449877\n",
            "Precision -  0.5916473317865429\n",
            "Confusion Matrix - \n",
            " [[2034  176]\n",
            " [ 398  255]]\n",
            "For  NB\n",
            "Accuracy -  0.773663988822913\n",
            "Precision -  0.8571428571428571\n",
            "Confusion Matrix - \n",
            " [[2209    1]\n",
            " [ 647    6]]\n",
            "For  DT\n",
            "Accuracy -  0.829898707649319\n",
            "Precision -  0.6985645933014354\n",
            "Confusion Matrix - \n",
            " [[2084  126]\n",
            " [ 361  292]]\n",
            "For  LR\n",
            "Accuracy -  0.851903597624869\n",
            "Precision -  0.7681498829039812\n",
            "Confusion Matrix - \n",
            " [[2111   99]\n",
            " [ 325  328]]\n",
            "For  RF\n",
            "Accuracy -  0.779252532308767\n",
            "Precision -  0.8888888888888888\n",
            "Confusion Matrix - \n",
            " [[2207    3]\n",
            " [ 629   24]]\n",
            "For  ETC\n",
            "Accuracy -  0.77645826056584\n",
            "Precision -  0.782608695652174\n",
            "Confusion Matrix - \n",
            " [[2205    5]\n",
            " [ 635   18]]\n",
            "For  xgb\n",
            "Accuracy -  0.8515543136570032\n",
            "Precision -  0.796875\n",
            "Confusion Matrix - \n",
            " [[2132   78]\n",
            " [ 347  306]]\n"
          ]
        }
      ]
    },
    {
      "cell_type": "code",
      "metadata": {
        "id": "xeg0rZgndVzN"
      },
      "source": [
        ""
      ],
      "execution_count": null,
      "outputs": []
    },
    {
      "cell_type": "code",
      "metadata": {
        "id": "0FG8tTMIdVzN"
      },
      "source": [
        "performance_df = pd.DataFrame({'Algorithm':clfs.keys(),'Accuracy':accuracy_scores,'Precision':precision_scores}).sort_values('Precision',ascending=False)"
      ],
      "execution_count": 21,
      "outputs": []
    },
    {
      "cell_type": "code",
      "metadata": {
        "colab": {
          "base_uri": "https://localhost:8080/",
          "height": 266
        },
        "id": "Y1PJm9vIdVzN",
        "outputId": "ad2ea875-64b0-47d7-ec4f-617bd8b7c676"
      },
      "source": [
        "performance_df"
      ],
      "execution_count": 22,
      "outputs": [
        {
          "output_type": "execute_result",
          "data": {
            "text/html": [
              "<div>\n",
              "<style scoped>\n",
              "    .dataframe tbody tr th:only-of-type {\n",
              "        vertical-align: middle;\n",
              "    }\n",
              "\n",
              "    .dataframe tbody tr th {\n",
              "        vertical-align: top;\n",
              "    }\n",
              "\n",
              "    .dataframe thead th {\n",
              "        text-align: right;\n",
              "    }\n",
              "</style>\n",
              "<table border=\"1\" class=\"dataframe\">\n",
              "  <thead>\n",
              "    <tr style=\"text-align: right;\">\n",
              "      <th></th>\n",
              "      <th>Algorithm</th>\n",
              "      <th>Accuracy</th>\n",
              "      <th>Precision</th>\n",
              "    </tr>\n",
              "  </thead>\n",
              "  <tbody>\n",
              "    <tr>\n",
              "      <th>4</th>\n",
              "      <td>RF</td>\n",
              "      <td>0.779253</td>\n",
              "      <td>0.888889</td>\n",
              "    </tr>\n",
              "    <tr>\n",
              "      <th>1</th>\n",
              "      <td>NB</td>\n",
              "      <td>0.773664</td>\n",
              "      <td>0.857143</td>\n",
              "    </tr>\n",
              "    <tr>\n",
              "      <th>6</th>\n",
              "      <td>xgb</td>\n",
              "      <td>0.851554</td>\n",
              "      <td>0.796875</td>\n",
              "    </tr>\n",
              "    <tr>\n",
              "      <th>5</th>\n",
              "      <td>ETC</td>\n",
              "      <td>0.776458</td>\n",
              "      <td>0.782609</td>\n",
              "    </tr>\n",
              "    <tr>\n",
              "      <th>3</th>\n",
              "      <td>LR</td>\n",
              "      <td>0.851904</td>\n",
              "      <td>0.768150</td>\n",
              "    </tr>\n",
              "    <tr>\n",
              "      <th>2</th>\n",
              "      <td>DT</td>\n",
              "      <td>0.829899</td>\n",
              "      <td>0.698565</td>\n",
              "    </tr>\n",
              "    <tr>\n",
              "      <th>0</th>\n",
              "      <td>KN</td>\n",
              "      <td>0.799511</td>\n",
              "      <td>0.591647</td>\n",
              "    </tr>\n",
              "  </tbody>\n",
              "</table>\n",
              "</div>"
            ],
            "text/plain": [
              "  Algorithm  Accuracy  Precision\n",
              "4        RF  0.779253   0.888889\n",
              "1        NB  0.773664   0.857143\n",
              "6       xgb  0.851554   0.796875\n",
              "5       ETC  0.776458   0.782609\n",
              "3        LR  0.851904   0.768150\n",
              "2        DT  0.829899   0.698565\n",
              "0        KN  0.799511   0.591647"
            ]
          },
          "metadata": {},
          "execution_count": 22
        }
      ]
    },
    {
      "cell_type": "code",
      "metadata": {
        "id": "dG4G4SiEdVzN"
      },
      "source": [
        "X2_train,X2_test,y_train_ns,y_test_ns = train_test_split(X1,y_ns,test_size=0.33,random_state=2)"
      ],
      "execution_count": 23,
      "outputs": []
    },
    {
      "cell_type": "code",
      "metadata": {
        "colab": {
          "base_uri": "https://localhost:8080/"
        },
        "id": "2DaJ_OfFdVzN",
        "outputId": "77ca7e4f-887a-4ff7-eb23-987fc27a785b"
      },
      "source": [
        "accuracy_scores = []\n",
        "precision_scores = []\n",
        "\n",
        "for name,clf in clfs.items():\n",
        "    \n",
        "    current_accuracy,current_precision, current_cm = train_classifier(clf, X2_train,y_train_ns,X2_test,y_test_ns)\n",
        "    \n",
        "    print(\"For \",name)\n",
        "    print(\"Accuracy - \",current_accuracy)\n",
        "    print(\"Precision - \",current_precision)\n",
        "    print(\"Confusion Matrix - \\n\", current_cm)\n",
        "\n",
        "    accuracy_scores.append(current_accuracy)\n",
        "    precision_scores.append(current_precision)"
      ],
      "execution_count": 24,
      "outputs": [
        {
          "output_type": "stream",
          "name": "stdout",
          "text": [
            "For  KN\n",
            "Accuracy -  0.8805448829898708\n",
            "Precision -  0.5696969696969697\n",
            "Confusion Matrix - \n",
            " [[2427   71]\n",
            " [ 271   94]]\n",
            "For  NB\n",
            "Accuracy -  0.8721620677610897\n",
            "Precision -  0.0\n",
            "Confusion Matrix - \n",
            " [[2497    1]\n",
            " [ 365    0]]\n",
            "For  DT\n",
            "Accuracy -  0.8903248340901153\n",
            "Precision -  0.606694560669456\n",
            "Confusion Matrix - \n",
            " [[2404   94]\n",
            " [ 220  145]]\n",
            "For  LR\n",
            "Accuracy -  0.9109325881942019\n",
            "Precision -  0.7864583333333334\n",
            "Confusion Matrix - \n",
            " [[2457   41]\n",
            " [ 214  151]]\n",
            "For  RF\n",
            "Accuracy -  0.8739084876004192\n",
            "Precision -  1.0\n",
            "Confusion Matrix - \n",
            " [[2498    0]\n",
            " [ 361    4]]\n"
          ]
        },
        {
          "output_type": "stream",
          "name": "stderr",
          "text": [
            "/usr/local/lib/python3.7/dist-packages/sklearn/metrics/_classification.py:1272: UndefinedMetricWarning: Precision is ill-defined and being set to 0.0 due to no predicted samples. Use `zero_division` parameter to control this behavior.\n",
            "  _warn_prf(average, modifier, msg_start, len(result))\n"
          ]
        },
        {
          "output_type": "stream",
          "name": "stdout",
          "text": [
            "For  ETC\n",
            "Accuracy -  0.8725113517289557\n",
            "Precision -  0.0\n",
            "Confusion Matrix - \n",
            " [[2498    0]\n",
            " [ 365    0]]\n",
            "For  xgb\n",
            "Accuracy -  0.9046454767726161\n",
            "Precision -  0.8066666666666666\n",
            "Confusion Matrix - \n",
            " [[2469   29]\n",
            " [ 244  121]]\n"
          ]
        }
      ]
    },
    {
      "cell_type": "code",
      "metadata": {
        "colab": {
          "base_uri": "https://localhost:8080/",
          "height": 266
        },
        "id": "9esTixXMdVzO",
        "outputId": "3a47c5a5-f270-4943-ed34-e789ed90e038"
      },
      "source": [
        "performance_df = pd.DataFrame({'Algorithm':clfs.keys(),'Accuracy':accuracy_scores,'Precision':precision_scores}).sort_values('Precision',ascending=False)\n",
        "performance_df"
      ],
      "execution_count": 25,
      "outputs": [
        {
          "output_type": "execute_result",
          "data": {
            "text/html": [
              "<div>\n",
              "<style scoped>\n",
              "    .dataframe tbody tr th:only-of-type {\n",
              "        vertical-align: middle;\n",
              "    }\n",
              "\n",
              "    .dataframe tbody tr th {\n",
              "        vertical-align: top;\n",
              "    }\n",
              "\n",
              "    .dataframe thead th {\n",
              "        text-align: right;\n",
              "    }\n",
              "</style>\n",
              "<table border=\"1\" class=\"dataframe\">\n",
              "  <thead>\n",
              "    <tr style=\"text-align: right;\">\n",
              "      <th></th>\n",
              "      <th>Algorithm</th>\n",
              "      <th>Accuracy</th>\n",
              "      <th>Precision</th>\n",
              "    </tr>\n",
              "  </thead>\n",
              "  <tbody>\n",
              "    <tr>\n",
              "      <th>4</th>\n",
              "      <td>RF</td>\n",
              "      <td>0.873908</td>\n",
              "      <td>1.000000</td>\n",
              "    </tr>\n",
              "    <tr>\n",
              "      <th>6</th>\n",
              "      <td>xgb</td>\n",
              "      <td>0.904645</td>\n",
              "      <td>0.806667</td>\n",
              "    </tr>\n",
              "    <tr>\n",
              "      <th>3</th>\n",
              "      <td>LR</td>\n",
              "      <td>0.910933</td>\n",
              "      <td>0.786458</td>\n",
              "    </tr>\n",
              "    <tr>\n",
              "      <th>2</th>\n",
              "      <td>DT</td>\n",
              "      <td>0.890325</td>\n",
              "      <td>0.606695</td>\n",
              "    </tr>\n",
              "    <tr>\n",
              "      <th>0</th>\n",
              "      <td>KN</td>\n",
              "      <td>0.880545</td>\n",
              "      <td>0.569697</td>\n",
              "    </tr>\n",
              "    <tr>\n",
              "      <th>1</th>\n",
              "      <td>NB</td>\n",
              "      <td>0.872162</td>\n",
              "      <td>0.000000</td>\n",
              "    </tr>\n",
              "    <tr>\n",
              "      <th>5</th>\n",
              "      <td>ETC</td>\n",
              "      <td>0.872511</td>\n",
              "      <td>0.000000</td>\n",
              "    </tr>\n",
              "  </tbody>\n",
              "</table>\n",
              "</div>"
            ],
            "text/plain": [
              "  Algorithm  Accuracy  Precision\n",
              "4        RF  0.873908   1.000000\n",
              "6       xgb  0.904645   0.806667\n",
              "3        LR  0.910933   0.786458\n",
              "2        DT  0.890325   0.606695\n",
              "0        KN  0.880545   0.569697\n",
              "1        NB  0.872162   0.000000\n",
              "5       ETC  0.872511   0.000000"
            ]
          },
          "metadata": {},
          "execution_count": 25
        }
      ]
    },
    {
      "cell_type": "code",
      "metadata": {
        "id": "tPAl-KQldVzO"
      },
      "source": [
        "X3_train,X3_test,y_train_tf,y_test_tf = train_test_split(X1,y_tf,test_size=0.33,random_state=2)"
      ],
      "execution_count": 26,
      "outputs": []
    },
    {
      "cell_type": "code",
      "metadata": {
        "colab": {
          "base_uri": "https://localhost:8080/"
        },
        "id": "Y-1-tCxqdVzQ",
        "outputId": "83a96734-50dc-4de7-b214-83cb8ab16b32"
      },
      "source": [
        "accuracy_scores = []\n",
        "precision_scores = []\n",
        "\n",
        "for name,clf in clfs.items():\n",
        "    \n",
        "    current_accuracy,current_precision, current_cm = train_classifier(clf, X3_train,y_train_tf,X3_test,y_test_tf)\n",
        "    \n",
        "    print(\"For \",name)\n",
        "    print(\"Accuracy - \",current_accuracy)\n",
        "    print(\"Precision - \",current_precision)\n",
        "    print(\"Confusion Matrix - \\n\", current_cm)\n",
        "\n",
        "    accuracy_scores.append(current_accuracy)\n",
        "    precision_scores.append(current_precision)"
      ],
      "execution_count": 27,
      "outputs": [
        {
          "output_type": "stream",
          "name": "stdout",
          "text": [
            "For  KN\n",
            "Accuracy -  0.6894865525672371\n",
            "Precision -  0.6542185338865837\n",
            "Confusion Matrix - \n",
            " [[ 555  750]\n",
            " [ 139 1419]]\n",
            "For  NB\n",
            "Accuracy -  0.7645826056584003\n",
            "Precision -  0.7190287413280476\n",
            "Confusion Matrix - \n",
            " [[ 738  567]\n",
            " [ 107 1451]]\n",
            "For  DT\n",
            "Accuracy -  0.7394341599720573\n",
            "Precision -  0.8103975535168195\n",
            "Confusion Matrix - \n",
            " [[1057  248]\n",
            " [ 498 1060]]\n",
            "For  LR\n",
            "Accuracy -  0.8501571777855397\n",
            "Precision -  0.8570524984187223\n",
            "Confusion Matrix - \n",
            " [[1079  226]\n",
            " [ 203 1355]]\n",
            "For  RF\n",
            "Accuracy -  0.7635347537548026\n",
            "Precision -  0.7648827420324714\n",
            "Confusion Matrix - \n",
            " [[ 914  391]\n",
            " [ 286 1272]]\n",
            "For  ETC\n",
            "Accuracy -  0.7579462102689487\n",
            "Precision -  0.7431141090500281\n",
            "Confusion Matrix - \n",
            " [[ 848  457]\n",
            " [ 236 1322]]\n",
            "For  xgb\n",
            "Accuracy -  0.8169752008382816\n",
            "Precision -  0.8292993630573249\n",
            "Confusion Matrix - \n",
            " [[1037  268]\n",
            " [ 256 1302]]\n"
          ]
        }
      ]
    },
    {
      "cell_type": "code",
      "metadata": {
        "colab": {
          "base_uri": "https://localhost:8080/",
          "height": 266
        },
        "id": "a1M-PBTEdVzQ",
        "outputId": "722fb53c-9b7f-4592-c86f-b013b67460bb"
      },
      "source": [
        "performance_df = pd.DataFrame({'Algorithm':clfs.keys(),'Accuracy':accuracy_scores,'Precision':precision_scores}).sort_values('Precision',ascending=False)\n",
        "performance_df"
      ],
      "execution_count": 28,
      "outputs": [
        {
          "output_type": "execute_result",
          "data": {
            "text/html": [
              "<div>\n",
              "<style scoped>\n",
              "    .dataframe tbody tr th:only-of-type {\n",
              "        vertical-align: middle;\n",
              "    }\n",
              "\n",
              "    .dataframe tbody tr th {\n",
              "        vertical-align: top;\n",
              "    }\n",
              "\n",
              "    .dataframe thead th {\n",
              "        text-align: right;\n",
              "    }\n",
              "</style>\n",
              "<table border=\"1\" class=\"dataframe\">\n",
              "  <thead>\n",
              "    <tr style=\"text-align: right;\">\n",
              "      <th></th>\n",
              "      <th>Algorithm</th>\n",
              "      <th>Accuracy</th>\n",
              "      <th>Precision</th>\n",
              "    </tr>\n",
              "  </thead>\n",
              "  <tbody>\n",
              "    <tr>\n",
              "      <th>3</th>\n",
              "      <td>LR</td>\n",
              "      <td>0.850157</td>\n",
              "      <td>0.857052</td>\n",
              "    </tr>\n",
              "    <tr>\n",
              "      <th>6</th>\n",
              "      <td>xgb</td>\n",
              "      <td>0.816975</td>\n",
              "      <td>0.829299</td>\n",
              "    </tr>\n",
              "    <tr>\n",
              "      <th>2</th>\n",
              "      <td>DT</td>\n",
              "      <td>0.739434</td>\n",
              "      <td>0.810398</td>\n",
              "    </tr>\n",
              "    <tr>\n",
              "      <th>4</th>\n",
              "      <td>RF</td>\n",
              "      <td>0.763535</td>\n",
              "      <td>0.764883</td>\n",
              "    </tr>\n",
              "    <tr>\n",
              "      <th>5</th>\n",
              "      <td>ETC</td>\n",
              "      <td>0.757946</td>\n",
              "      <td>0.743114</td>\n",
              "    </tr>\n",
              "    <tr>\n",
              "      <th>1</th>\n",
              "      <td>NB</td>\n",
              "      <td>0.764583</td>\n",
              "      <td>0.719029</td>\n",
              "    </tr>\n",
              "    <tr>\n",
              "      <th>0</th>\n",
              "      <td>KN</td>\n",
              "      <td>0.689487</td>\n",
              "      <td>0.654219</td>\n",
              "    </tr>\n",
              "  </tbody>\n",
              "</table>\n",
              "</div>"
            ],
            "text/plain": [
              "  Algorithm  Accuracy  Precision\n",
              "3        LR  0.850157   0.857052\n",
              "6       xgb  0.816975   0.829299\n",
              "2        DT  0.739434   0.810398\n",
              "4        RF  0.763535   0.764883\n",
              "5       ETC  0.757946   0.743114\n",
              "1        NB  0.764583   0.719029\n",
              "0        KN  0.689487   0.654219"
            ]
          },
          "metadata": {},
          "execution_count": 28
        }
      ]
    },
    {
      "cell_type": "code",
      "metadata": {
        "id": "e6_vv50adVzQ"
      },
      "source": [
        "X4_train,X4_test,y_train_jp,y_test_jp = train_test_split(X1,y_jp,test_size=0.33,random_state=2)"
      ],
      "execution_count": 29,
      "outputs": []
    },
    {
      "cell_type": "code",
      "metadata": {
        "colab": {
          "base_uri": "https://localhost:8080/"
        },
        "id": "sPzC1bvcdVzQ",
        "outputId": "15d86aa9-00b3-49d3-ac72-ab49889e636e"
      },
      "source": [
        "accuracy_scores = []\n",
        "precision_scores = []\n",
        "\n",
        "for name,clf in clfs.items():\n",
        "    \n",
        "    current_accuracy,current_precision, current_cm = train_classifier(clf, X4_train,y_train_jp,X4_test,y_test_jp)\n",
        "    \n",
        "    print(\"For \",name)\n",
        "    print(\"Accuracy - \",current_accuracy)\n",
        "    print(\"Precision - \",current_precision)\n",
        "    print(\"Confusion Matrix - \\n\", current_cm)\n",
        "\n",
        "    accuracy_scores.append(current_accuracy)\n",
        "    precision_scores.append(current_precision)"
      ],
      "execution_count": 31,
      "outputs": [
        {
          "output_type": "stream",
          "name": "stdout",
          "text": [
            "For  KN\n",
            "Accuracy -  0.703807195249738\n",
            "Precision -  0.7439775910364146\n",
            "Confusion Matrix - \n",
            " [[ 687  457]\n",
            " [ 391 1328]]\n",
            "For  NB\n",
            "Accuracy -  0.6157876353475376\n",
            "Precision -  0.6101815592737629\n",
            "Confusion Matrix - \n",
            " [[  49 1095]\n",
            " [   5 1714]]\n",
            "For  DT\n",
            "Accuracy -  0.7268599371288857\n",
            "Precision -  0.7295443410093092\n",
            "Confusion Matrix - \n",
            " [[ 592  552]\n",
            " [ 230 1489]]\n",
            "For  LR\n",
            "Accuracy -  0.8082431016416346\n",
            "Precision -  0.8072478991596639\n",
            "Confusion Matrix - \n",
            " [[ 777  367]\n",
            " [ 182 1537]]\n",
            "For  RF\n",
            "Accuracy -  0.6748166259168704\n",
            "Precision -  0.6661045531197302\n",
            "Confusion Matrix - \n",
            " [[ 352  792]\n",
            " [ 139 1580]]\n",
            "For  ETC\n",
            "Accuracy -  0.6604959832343695\n",
            "Precision -  0.6521384928716905\n",
            "Confusion Matrix - \n",
            " [[ 290  854]\n",
            " [ 118 1601]]\n",
            "For  xgb\n",
            "Accuracy -  0.7785539643730353\n",
            "Precision -  0.7727501256913022\n",
            "Confusion Matrix - \n",
            " [[ 692  452]\n",
            " [ 182 1537]]\n"
          ]
        }
      ]
    },
    {
      "cell_type": "code",
      "metadata": {
        "colab": {
          "base_uri": "https://localhost:8080/",
          "height": 266
        },
        "id": "oJNLahsfdVzR",
        "outputId": "4ea57be9-03b4-468f-8510-c882baacd1d8"
      },
      "source": [
        "performance_df = pd.DataFrame({'Algorithm':clfs.keys(),'Accuracy':accuracy_scores,'Precision':precision_scores}).sort_values('Precision',ascending=False)\n",
        "performance_df"
      ],
      "execution_count": 32,
      "outputs": [
        {
          "output_type": "execute_result",
          "data": {
            "text/html": [
              "<div>\n",
              "<style scoped>\n",
              "    .dataframe tbody tr th:only-of-type {\n",
              "        vertical-align: middle;\n",
              "    }\n",
              "\n",
              "    .dataframe tbody tr th {\n",
              "        vertical-align: top;\n",
              "    }\n",
              "\n",
              "    .dataframe thead th {\n",
              "        text-align: right;\n",
              "    }\n",
              "</style>\n",
              "<table border=\"1\" class=\"dataframe\">\n",
              "  <thead>\n",
              "    <tr style=\"text-align: right;\">\n",
              "      <th></th>\n",
              "      <th>Algorithm</th>\n",
              "      <th>Accuracy</th>\n",
              "      <th>Precision</th>\n",
              "    </tr>\n",
              "  </thead>\n",
              "  <tbody>\n",
              "    <tr>\n",
              "      <th>3</th>\n",
              "      <td>LR</td>\n",
              "      <td>0.808243</td>\n",
              "      <td>0.807248</td>\n",
              "    </tr>\n",
              "    <tr>\n",
              "      <th>6</th>\n",
              "      <td>xgb</td>\n",
              "      <td>0.778554</td>\n",
              "      <td>0.772750</td>\n",
              "    </tr>\n",
              "    <tr>\n",
              "      <th>0</th>\n",
              "      <td>KN</td>\n",
              "      <td>0.703807</td>\n",
              "      <td>0.743978</td>\n",
              "    </tr>\n",
              "    <tr>\n",
              "      <th>2</th>\n",
              "      <td>DT</td>\n",
              "      <td>0.726860</td>\n",
              "      <td>0.729544</td>\n",
              "    </tr>\n",
              "    <tr>\n",
              "      <th>4</th>\n",
              "      <td>RF</td>\n",
              "      <td>0.674817</td>\n",
              "      <td>0.666105</td>\n",
              "    </tr>\n",
              "    <tr>\n",
              "      <th>5</th>\n",
              "      <td>ETC</td>\n",
              "      <td>0.660496</td>\n",
              "      <td>0.652138</td>\n",
              "    </tr>\n",
              "    <tr>\n",
              "      <th>1</th>\n",
              "      <td>NB</td>\n",
              "      <td>0.615788</td>\n",
              "      <td>0.610182</td>\n",
              "    </tr>\n",
              "  </tbody>\n",
              "</table>\n",
              "</div>"
            ],
            "text/plain": [
              "  Algorithm  Accuracy  Precision\n",
              "3        LR  0.808243   0.807248\n",
              "6       xgb  0.778554   0.772750\n",
              "0        KN  0.703807   0.743978\n",
              "2        DT  0.726860   0.729544\n",
              "4        RF  0.674817   0.666105\n",
              "5       ETC  0.660496   0.652138\n",
              "1        NB  0.615788   0.610182"
            ]
          },
          "metadata": {},
          "execution_count": 32
        }
      ]
    },
    {
      "cell_type": "code",
      "metadata": {
        "id": "kUpZyVBbvxF9"
      },
      "source": [
        "lr_ie = LogisticRegression(solver='liblinear', penalty='l1')"
      ],
      "execution_count": 34,
      "outputs": []
    },
    {
      "cell_type": "code",
      "metadata": {
        "colab": {
          "base_uri": "https://localhost:8080/"
        },
        "id": "P0rQicy8dVzR",
        "outputId": "df675ba6-4556-41cd-c840-d618063d2da8"
      },
      "source": [
        "train_classifier(lr_ie,X1_train,y_train_ie,X1_test,y_test_ie)"
      ],
      "execution_count": 35,
      "outputs": [
        {
          "output_type": "execute_result",
          "data": {
            "text/plain": [
              "(0.851903597624869, 0.7681498829039812, array([[2111,   99],\n",
              "        [ 325,  328]]))"
            ]
          },
          "metadata": {},
          "execution_count": 35
        }
      ]
    },
    {
      "cell_type": "code",
      "metadata": {
        "id": "O1qMq3Nhv3t_"
      },
      "source": [
        "lr_ns = LogisticRegression(solver='liblinear', penalty='l1')"
      ],
      "execution_count": 36,
      "outputs": []
    },
    {
      "cell_type": "code",
      "metadata": {
        "colab": {
          "base_uri": "https://localhost:8080/"
        },
        "id": "IlzUdGpadVzR",
        "outputId": "4cf3f648-031f-403b-8ae7-2768f1321065"
      },
      "source": [
        "train_classifier(lr_ns,X2_train,y_train_ns,X2_test,y_test_ns)"
      ],
      "execution_count": 37,
      "outputs": [
        {
          "output_type": "execute_result",
          "data": {
            "text/plain": [
              "(0.9109325881942019, 0.7864583333333334, array([[2457,   41],\n",
              "        [ 214,  151]]))"
            ]
          },
          "metadata": {},
          "execution_count": 37
        }
      ]
    },
    {
      "cell_type": "code",
      "metadata": {
        "id": "Nzth8tbedVzR"
      },
      "source": [
        "lr_tf = LogisticRegression(solver='liblinear', penalty='l1')"
      ],
      "execution_count": 38,
      "outputs": []
    },
    {
      "cell_type": "code",
      "metadata": {
        "colab": {
          "base_uri": "https://localhost:8080/"
        },
        "id": "N__6XwxbdVzR",
        "outputId": "58d43310-03b5-4525-fbf6-50918b55b746"
      },
      "source": [
        "train_classifier(lr_tf,X3_train,y_train_tf,X3_test,y_test_tf)"
      ],
      "execution_count": 39,
      "outputs": [
        {
          "output_type": "execute_result",
          "data": {
            "text/plain": [
              "(0.8501571777855397, 0.8570524984187223, array([[1079,  226],\n",
              "        [ 203, 1355]]))"
            ]
          },
          "metadata": {},
          "execution_count": 39
        }
      ]
    },
    {
      "cell_type": "code",
      "metadata": {
        "id": "sp-iF2BcwtyY"
      },
      "source": [
        "lr_jp = LogisticRegression(solver='liblinear', penalty='l1')"
      ],
      "execution_count": 40,
      "outputs": []
    },
    {
      "cell_type": "code",
      "metadata": {
        "colab": {
          "base_uri": "https://localhost:8080/"
        },
        "id": "RYuHuXjbAVca",
        "outputId": "04afae92-04fe-47ac-f2c4-58fb7bce7fce"
      },
      "source": [
        "lr_jp.fit(X4_train,y_train_jp)"
      ],
      "execution_count": 70,
      "outputs": [
        {
          "output_type": "execute_result",
          "data": {
            "text/plain": [
              "LogisticRegression(C=1.0, class_weight=None, dual=False, fit_intercept=True,\n",
              "                   intercept_scaling=1, l1_ratio=None, max_iter=100,\n",
              "                   multi_class='auto', n_jobs=None, penalty='l1',\n",
              "                   random_state=None, solver='liblinear', tol=0.0001, verbose=0,\n",
              "                   warm_start=False)"
            ]
          },
          "metadata": {},
          "execution_count": 70
        }
      ]
    },
    {
      "cell_type": "code",
      "metadata": {
        "id": "boQFHvyOAVhw"
      },
      "source": [
        "y_pred_jp = clf.predict(X4_test)\n",
        "accuracy = accuracy_score(y_test_jp,y_pred_jp)\n",
        "precision = precision_score(y_test_jp,y_pred_jp)"
      ],
      "execution_count": 71,
      "outputs": []
    },
    {
      "cell_type": "code",
      "metadata": {
        "colab": {
          "base_uri": "https://localhost:8080/"
        },
        "id": "h0P0BeVxA6hf",
        "outputId": "6131daa3-f811-402d-f7de-e766c6e4ad4e"
      },
      "source": [
        "print(accuracy,precision)"
      ],
      "execution_count": 72,
      "outputs": [
        {
          "output_type": "stream",
          "name": "stdout",
          "text": [
            "0.7785539643730353 0.7727501256913022\n"
          ]
        }
      ]
    },
    {
      "cell_type": "code",
      "metadata": {
        "colab": {
          "base_uri": "https://localhost:8080/"
        },
        "id": "ujuIz7GGwt3N",
        "outputId": "cfac4986-789c-416a-b88e-9c6e600ce506"
      },
      "source": [
        "train_classifier(clf, X4_train,y_train_jp,X4_test,y_test_jp)"
      ],
      "execution_count": 41,
      "outputs": [
        {
          "output_type": "execute_result",
          "data": {
            "text/plain": [
              "(0.7785539643730353, 0.7727501256913022, array([[ 692,  452],\n",
              "        [ 182, 1537]]))"
            ]
          },
          "metadata": {},
          "execution_count": 41
        }
      ]
    },
    {
      "cell_type": "code",
      "metadata": {
        "id": "nLsWV_kHxEn_"
      },
      "source": [
        "import pickle\n",
        "with open('model_ie.pickle','wb') as f:\n",
        "  pickle.dump(lr_ie,f)"
      ],
      "execution_count": 44,
      "outputs": []
    },
    {
      "cell_type": "code",
      "metadata": {
        "id": "pitnI_8gxEqy"
      },
      "source": [
        "with open('model_ns.pickle','wb') as f:\n",
        "  pickle.dump(lr_ns,f)"
      ],
      "execution_count": 45,
      "outputs": []
    },
    {
      "cell_type": "code",
      "metadata": {
        "id": "fJ8KhYUuxEtk"
      },
      "source": [
        "with open('model_tf.pickle','wb') as f:\n",
        "  pickle.dump(lr_tf,f)"
      ],
      "execution_count": 46,
      "outputs": []
    },
    {
      "cell_type": "code",
      "metadata": {
        "id": "Cjuu-92uxEwW"
      },
      "source": [
        "with open('model_jp.pickle','wb') as f:\n",
        "  pickle.dump(lr_jp,f)"
      ],
      "execution_count": 74,
      "outputs": []
    },
    {
      "cell_type": "code",
      "metadata": {
        "id": "Okiw3yE55Zex"
      },
      "source": [
        "with open('vectorizer.pickle','wb') as f1:\n",
        "  pickle.dump(tfidf,f1)"
      ],
      "execution_count": 51,
      "outputs": []
    },
    {
      "cell_type": "code",
      "metadata": {
        "id": "PmkLkzd33ct4"
      },
      "source": [
        "EorI_model = pickle.load(open('model_ie.pickle', 'rb'))\n",
        "SorN_model = pickle.load(open(\"model_ns.pickle\", 'rb'))\n",
        "TorF_model = pickle.load(open(\"model_tf.pickle\", 'rb'))\n",
        "JorP_model = pickle.load(open(\"model_jp.pickle\", 'rb'))"
      ],
      "execution_count": 75,
      "outputs": []
    },
    {
      "cell_type": "code",
      "metadata": {
        "id": "-qIK1krG3cyX"
      },
      "source": [
        "tfidf = pickle.load(open('vectorizer.pickle', 'rb'))"
      ],
      "execution_count": 52,
      "outputs": []
    },
    {
      "cell_type": "code",
      "metadata": {
        "id": "q5kVpgTT-d3L"
      },
      "source": [
        "def transform_text(text):\n",
        "    text = text.lower()\n",
        "    text = nltk.word_tokenize(text)\n",
        "    y = []\n",
        "    for i in text:\n",
        "        if i.isalnum():\n",
        "            y.append(i)\n",
        "    text = y[:]\n",
        "    y.clear()\n",
        "    for i in text:\n",
        "        if i not in stopwords.words('english') and i not in string.punctuation:\n",
        "            y.append(i)\n",
        "    text = y[:]\n",
        "    y.clear()\n",
        "    \n",
        "    for i in text:\n",
        "        y.append(ps.stem(i))\n",
        "    \n",
        "            \n",
        "    return \" \".join(y)"
      ],
      "execution_count": 53,
      "outputs": []
    },
    {
      "cell_type": "code",
      "metadata": {
        "id": "ODpEQsMm3c2q"
      },
      "source": [
        "text = 'I plugged the data into tableau to see how the different features or how various mathematical formulas relate to the Weight. Once I had a few that didn’t have a wide distribution, I just started trying different models, even ones we hadn’t gone over yet. There are a LOT of regression models. I do not like this try everything method, it’s inefficient and illogical.'"
      ],
      "execution_count": 54,
      "outputs": []
    },
    {
      "cell_type": "code",
      "metadata": {
        "colab": {
          "base_uri": "https://localhost:8080/"
        },
        "id": "gqLXuIN7--QU",
        "outputId": "a23b3815-4d55-4dad-b4e4-d66bf5277438"
      },
      "source": [
        "from nltk.corpus import stopwords\n",
        "import string\n",
        "nltk.download('stopwords')"
      ],
      "execution_count": 56,
      "outputs": [
        {
          "output_type": "stream",
          "name": "stdout",
          "text": [
            "[nltk_data] Downloading package stopwords to /root/nltk_data...\n",
            "[nltk_data]   Package stopwords is already up-to-date!\n"
          ]
        },
        {
          "output_type": "execute_result",
          "data": {
            "text/plain": [
              "True"
            ]
          },
          "metadata": {},
          "execution_count": 56
        }
      ]
    },
    {
      "cell_type": "code",
      "metadata": {
        "id": "J7hft23r--Wm"
      },
      "source": [
        "from nltk.stem.porter import PorterStemmer\n",
        "ps = PorterStemmer()"
      ],
      "execution_count": 58,
      "outputs": []
    },
    {
      "cell_type": "code",
      "metadata": {
        "colab": {
          "base_uri": "https://localhost:8080/",
          "height": 52
        },
        "id": "AWYXLD8D-krq",
        "outputId": "a29e51cb-58a5-4508-e619-62d9a3d4966b"
      },
      "source": [
        "transformed_text = transform_text(text)\n",
        "transformed_text"
      ],
      "execution_count": 59,
      "outputs": [
        {
          "output_type": "execute_result",
          "data": {
            "application/vnd.google.colaboratory.intrinsic+json": {
              "type": "string"
            },
            "text/plain": [
              "'plug data tableau see differ featur variou mathemat formula relat weight wide distribut start tri differ model even one gone yet lot regress model like tri everyth method ineffici illog'"
            ]
          },
          "metadata": {},
          "execution_count": 59
        }
      ]
    },
    {
      "cell_type": "code",
      "metadata": {
        "id": "fojZno3u-kwV"
      },
      "source": [
        "vector_input = tfidf.transform([transformed_text])"
      ],
      "execution_count": 61,
      "outputs": []
    },
    {
      "cell_type": "code",
      "metadata": {
        "id": "nwMgqRA8_ijl"
      },
      "source": [
        "EorI_model = pickle.load(open('model_ie.pickle', 'rb'))\n",
        "SorN_model = pickle.load(open(\"model_ns.pickle\", 'rb'))\n",
        "TorF_model = pickle.load(open(\"model_tf.pickle\", 'rb'))\n",
        "JorP_model = pickle.load(open(\"model_jp.pickle\", 'rb'))"
      ],
      "execution_count": 76,
      "outputs": []
    },
    {
      "cell_type": "code",
      "metadata": {
        "id": "i-s4h8IB_il5"
      },
      "source": [
        ""
      ],
      "execution_count": null,
      "outputs": []
    },
    {
      "cell_type": "code",
      "metadata": {
        "id": "ltGP1gzN-k1n"
      },
      "source": [
        "result1 = EorI_model.predict(vector_input)[0]\n",
        "result2 = SorN_model.predict(vector_input)[0]\n",
        "result3 = TorF_model.predict(vector_input)[0]\n",
        "result4 = JorP_model.predict(vector_input)[0]"
      ],
      "execution_count": 77,
      "outputs": []
    },
    {
      "cell_type": "code",
      "metadata": {
        "colab": {
          "base_uri": "https://localhost:8080/"
        },
        "id": "iutgUNM8-k34",
        "outputId": "4516a0e3-0590-44ff-b27b-2c45ad5eac09"
      },
      "source": [
        "print(result1,result2,result3,result4)"
      ],
      "execution_count": 79,
      "outputs": [
        {
          "output_type": "stream",
          "name": "stdout",
          "text": [
            "0 0 0 1\n"
          ]
        }
      ]
    }
  ]
}