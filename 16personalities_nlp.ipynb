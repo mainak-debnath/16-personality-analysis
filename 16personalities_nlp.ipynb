{
 "cells": [
  {
   "cell_type": "markdown",
   "source": [
    "# Import relevant libraries"
   ],
   "metadata": {}
  },
  {
   "cell_type": "code",
   "execution_count": 2,
   "source": [
    "import numpy as np\r\n",
    "import pandas as pd\r\n",
    "import matplotlib.pyplot as plt\r\n",
    "import sklearn as sk\r\n",
    "import nltk\r\n",
    "import string\r\n",
    "from sklearn.feature_extraction.text import TfidfVectorizer"
   ],
   "outputs": [],
   "metadata": {}
  },
  {
   "cell_type": "code",
   "execution_count": 11,
   "source": [
    "import nltk\r\n",
    "nltk.download('stopwords')"
   ],
   "outputs": [
    {
     "output_type": "stream",
     "name": "stderr",
     "text": [
      "[nltk_data] Downloading package stopwords to\n",
      "[nltk_data]     C:\\Users\\debna\\AppData\\Roaming\\nltk_data...\n",
      "[nltk_data]   Unzipping corpora\\stopwords.zip.\n"
     ]
    },
    {
     "output_type": "execute_result",
     "data": {
      "text/plain": [
       "True"
      ]
     },
     "metadata": {},
     "execution_count": 11
    }
   ],
   "metadata": {}
  },
  {
   "cell_type": "code",
   "execution_count": 12,
   "source": [
    "nltk.download('punkt')"
   ],
   "outputs": [
    {
     "output_type": "stream",
     "name": "stderr",
     "text": [
      "[nltk_data] Downloading package punkt to\n",
      "[nltk_data]     C:\\Users\\debna\\AppData\\Roaming\\nltk_data...\n",
      "[nltk_data]   Package punkt is already up-to-date!\n"
     ]
    },
    {
     "output_type": "execute_result",
     "data": {
      "text/plain": [
       "True"
      ]
     },
     "metadata": {},
     "execution_count": 12
    }
   ],
   "metadata": {}
  },
  {
   "cell_type": "markdown",
   "source": [
    "# Get the data"
   ],
   "metadata": {}
  },
  {
   "cell_type": "code",
   "execution_count": 2,
   "source": [
    "dataset = pd.read_csv(\"mbti_1.csv\")\r\n",
    "dataset.sample(5)"
   ],
   "outputs": [
    {
     "output_type": "execute_result",
     "data": {
      "text/html": [
       "<div>\n",
       "<style scoped>\n",
       "    .dataframe tbody tr th:only-of-type {\n",
       "        vertical-align: middle;\n",
       "    }\n",
       "\n",
       "    .dataframe tbody tr th {\n",
       "        vertical-align: top;\n",
       "    }\n",
       "\n",
       "    .dataframe thead th {\n",
       "        text-align: right;\n",
       "    }\n",
       "</style>\n",
       "<table border=\"1\" class=\"dataframe\">\n",
       "  <thead>\n",
       "    <tr style=\"text-align: right;\">\n",
       "      <th></th>\n",
       "      <th>type</th>\n",
       "      <th>posts</th>\n",
       "    </tr>\n",
       "  </thead>\n",
       "  <tbody>\n",
       "    <tr>\n",
       "      <th>1711</th>\n",
       "      <td>ENFP</td>\n",
       "      <td>'Death before dishonor    In view, a humble va...</td>\n",
       "    </tr>\n",
       "    <tr>\n",
       "      <th>5793</th>\n",
       "      <td>INTP</td>\n",
       "      <td>'Take Shelter (Jeff Nichols, 2011) The Devil's...</td>\n",
       "    </tr>\n",
       "    <tr>\n",
       "      <th>7109</th>\n",
       "      <td>ENTP</td>\n",
       "      <td>'Considering the average score is 58, assuming...</td>\n",
       "    </tr>\n",
       "    <tr>\n",
       "      <th>1036</th>\n",
       "      <td>INTJ</td>\n",
       "      <td>'Great. Now my day is ruined. Someone just une...</td>\n",
       "    </tr>\n",
       "    <tr>\n",
       "      <th>2209</th>\n",
       "      <td>INTP</td>\n",
       "      <td>'you know, i can see your point... F types wou...</td>\n",
       "    </tr>\n",
       "  </tbody>\n",
       "</table>\n",
       "</div>"
      ],
      "text/plain": [
       "      type                                              posts\n",
       "1711  ENFP  'Death before dishonor    In view, a humble va...\n",
       "5793  INTP  'Take Shelter (Jeff Nichols, 2011) The Devil's...\n",
       "7109  ENTP  'Considering the average score is 58, assuming...\n",
       "1036  INTJ  'Great. Now my day is ruined. Someone just une...\n",
       "2209  INTP  'you know, i can see your point... F types wou..."
      ]
     },
     "metadata": {},
     "execution_count": 2
    }
   ],
   "metadata": {}
  },
  {
   "cell_type": "code",
   "execution_count": 3,
   "source": [
    "#data = pd.get_dummies(data=dataset, prefix='', prefix_sep='', columns=['type'])\r\n",
    "data = dataset\r\n",
    "map1 = {\"I\": 0, \"E\": 1}\r\n",
    "map2 = {\"N\": 0, \"S\": 1}\r\n",
    "map3 = {\"T\": 0, \"F\": 1}\r\n",
    "map4 = {\"J\": 0, \"P\": 1}\r\n",
    "data['I-E'] = data['type'].astype(str).str[0]\r\n",
    "data['I-E'] = data['I-E'].map(map1)\r\n",
    "data['N-S'] = data['type'].astype(str).str[1]\r\n",
    "data['N-S'] = data['N-S'].map(map2)\r\n",
    "data['T-F'] = data['type'].astype(str).str[2]\r\n",
    "data['T-F'] = data['T-F'].map(map3)\r\n",
    "data['J-P'] = data['type'].astype(str).str[3]\r\n",
    "data['J-P'] = data['J-P'].map(map4)\r\n",
    "data.sample(5)"
   ],
   "outputs": [
    {
     "output_type": "execute_result",
     "data": {
      "text/html": [
       "<div>\n",
       "<style scoped>\n",
       "    .dataframe tbody tr th:only-of-type {\n",
       "        vertical-align: middle;\n",
       "    }\n",
       "\n",
       "    .dataframe tbody tr th {\n",
       "        vertical-align: top;\n",
       "    }\n",
       "\n",
       "    .dataframe thead th {\n",
       "        text-align: right;\n",
       "    }\n",
       "</style>\n",
       "<table border=\"1\" class=\"dataframe\">\n",
       "  <thead>\n",
       "    <tr style=\"text-align: right;\">\n",
       "      <th></th>\n",
       "      <th>type</th>\n",
       "      <th>posts</th>\n",
       "      <th>I-E</th>\n",
       "      <th>N-S</th>\n",
       "      <th>T-F</th>\n",
       "      <th>J-P</th>\n",
       "    </tr>\n",
       "  </thead>\n",
       "  <tbody>\n",
       "    <tr>\n",
       "      <th>3006</th>\n",
       "      <td>INFJ</td>\n",
       "      <td>'deal all, I guess there are many threads with...</td>\n",
       "      <td>0</td>\n",
       "      <td>0</td>\n",
       "      <td>1</td>\n",
       "      <td>0</td>\n",
       "    </tr>\n",
       "    <tr>\n",
       "      <th>7566</th>\n",
       "      <td>ISFP</td>\n",
       "      <td>They live in Stonypoint?|||I can't remember ha...</td>\n",
       "      <td>0</td>\n",
       "      <td>1</td>\n",
       "      <td>1</td>\n",
       "      <td>1</td>\n",
       "    </tr>\n",
       "    <tr>\n",
       "      <th>1492</th>\n",
       "      <td>INFP</td>\n",
       "      <td>'well-rounded funny INFP from Austin, TX  27th...</td>\n",
       "      <td>0</td>\n",
       "      <td>0</td>\n",
       "      <td>1</td>\n",
       "      <td>1</td>\n",
       "    </tr>\n",
       "    <tr>\n",
       "      <th>4813</th>\n",
       "      <td>ENTP</td>\n",
       "      <td>'Wait, what? You're looking for traits of an a...</td>\n",
       "      <td>1</td>\n",
       "      <td>0</td>\n",
       "      <td>0</td>\n",
       "      <td>1</td>\n",
       "    </tr>\n",
       "    <tr>\n",
       "      <th>4917</th>\n",
       "      <td>INFJ</td>\n",
       "      <td>'Hi  @Fathom ,  I am sorry you are feeling str...</td>\n",
       "      <td>0</td>\n",
       "      <td>0</td>\n",
       "      <td>1</td>\n",
       "      <td>0</td>\n",
       "    </tr>\n",
       "  </tbody>\n",
       "</table>\n",
       "</div>"
      ],
      "text/plain": [
       "      type                                              posts  I-E  N-S  T-F  \\\n",
       "3006  INFJ  'deal all, I guess there are many threads with...    0    0    1   \n",
       "7566  ISFP  They live in Stonypoint?|||I can't remember ha...    0    1    1   \n",
       "1492  INFP  'well-rounded funny INFP from Austin, TX  27th...    0    0    1   \n",
       "4813  ENTP  'Wait, what? You're looking for traits of an a...    1    0    0   \n",
       "4917  INFJ  'Hi  @Fathom ,  I am sorry you are feeling str...    0    0    1   \n",
       "\n",
       "      J-P  \n",
       "3006    0  \n",
       "7566    1  \n",
       "1492    1  \n",
       "4813    1  \n",
       "4917    0  "
      ]
     },
     "metadata": {},
     "execution_count": 3
    }
   ],
   "metadata": {}
  },
  {
   "cell_type": "code",
   "execution_count": 4,
   "source": [
    "data.duplicated().sum()"
   ],
   "outputs": [
    {
     "output_type": "execute_result",
     "data": {
      "text/plain": [
       "0"
      ]
     },
     "metadata": {},
     "execution_count": 4
    }
   ],
   "metadata": {}
  },
  {
   "cell_type": "markdown",
   "source": [
    "# EDA"
   ],
   "metadata": {}
  },
  {
   "cell_type": "code",
   "execution_count": 5,
   "source": [
    "plt.pie(dataset['type'].value_counts(), labels=np.unique(np.array(dataset['type'])), autopct=\"%0.2f\")\r\n",
    "plt.show()"
   ],
   "outputs": [
    {
     "output_type": "display_data",
     "data": {
      "image/png": "[encoded data removed]",
      "text/plain": [
       "<Figure size 432x288 with 1 Axes>"
      ]
     },
     "metadata": {}
    }
   ],
   "metadata": {}
  },
  {
   "cell_type": "code",
   "execution_count": 6,
   "source": [
    "def split_join(s, delimiter):\r\n",
    "    t = s.split(delimiter)\r\n",
    "    return \" \".join(t)"
   ],
   "outputs": [],
   "metadata": {}
  },
  {
   "cell_type": "code",
   "execution_count": 7,
   "source": [
    "data['posts'] = data['posts'].apply(lambda x: split_join(x,'|||'))"
   ],
   "outputs": [],
   "metadata": {}
  },
  {
   "cell_type": "code",
   "execution_count": 8,
   "source": [
    "data['num_words'] = data['posts'].apply(lambda x:len(nltk.word_tokenize(x)))\r\n",
    "data['num_sentences'] = data['posts'].apply(lambda x:len(nltk.sent_tokenize(x)))"
   ],
   "outputs": [],
   "metadata": {}
  },
  {
   "cell_type": "markdown",
   "source": [
    "# Data Preprocessing\r\n",
    "1. lower case\r\n",
    "2. tokenization\r\n",
    "3. removing special characters\r\n",
    "4. removing stop words\r\n",
    "5. stemming"
   ],
   "metadata": {}
  },
  {
   "cell_type": "code",
   "execution_count": 7,
   "source": [
    "from nltk.stem.porter import PorterStemmer\r\n",
    "from nltk.corpus import stopwords\r\n",
    "import string\r\n",
    "\r\n",
    "def transform_text(text):\r\n",
    "\r\n",
    "    ps = PorterStemmer()\r\n",
    "\r\n",
    "    text = text.lower()\r\n",
    "    text = nltk.word_tokenize(text)\r\n",
    "    \r\n",
    "    y = []\r\n",
    "    for i in text:\r\n",
    "        if i.isalnum():\r\n",
    "            y.append(i)\r\n",
    "    \r\n",
    "    text = y[:]\r\n",
    "    y.clear()\r\n",
    "    \r\n",
    "    for i in text:\r\n",
    "        if i not in stopwords.words('english') and i not in string.punctuation:\r\n",
    "            y.append(i)\r\n",
    "            \r\n",
    "    text = y[:]\r\n",
    "    y.clear()\r\n",
    "    \r\n",
    "    for i in text:\r\n",
    "        y.append(ps.stem(i))\r\n",
    "    \r\n",
    "    return \" \".join(y)"
   ],
   "outputs": [],
   "metadata": {}
  },
  {
   "cell_type": "code",
   "execution_count": 13,
   "source": [
    "data['transformed_posts'] = data['posts'].apply(transform_text)"
   ],
   "outputs": [],
   "metadata": {}
  },
  {
   "cell_type": "code",
   "execution_count": 14,
   "source": [
    "data.head()"
   ],
   "outputs": [
    {
     "output_type": "execute_result",
     "data": {
      "text/html": [
       "<div>\n",
       "<style scoped>\n",
       "    .dataframe tbody tr th:only-of-type {\n",
       "        vertical-align: middle;\n",
       "    }\n",
       "\n",
       "    .dataframe tbody tr th {\n",
       "        vertical-align: top;\n",
       "    }\n",
       "\n",
       "    .dataframe thead th {\n",
       "        text-align: right;\n",
       "    }\n",
       "</style>\n",
       "<table border=\"1\" class=\"dataframe\">\n",
       "  <thead>\n",
       "    <tr style=\"text-align: right;\">\n",
       "      <th></th>\n",
       "      <th>type</th>\n",
       "      <th>posts</th>\n",
       "      <th>I-E</th>\n",
       "      <th>N-S</th>\n",
       "      <th>T-F</th>\n",
       "      <th>J-P</th>\n",
       "      <th>num_words</th>\n",
       "      <th>num_sentences</th>\n",
       "      <th>transformed_posts</th>\n",
       "    </tr>\n",
       "  </thead>\n",
       "  <tbody>\n",
       "    <tr>\n",
       "      <th>0</th>\n",
       "      <td>INFJ</td>\n",
       "      <td>'http://www.youtube.com/watch?v=qsXHcwe3krw ht...</td>\n",
       "      <td>0</td>\n",
       "      <td>0</td>\n",
       "      <td>1</td>\n",
       "      <td>0</td>\n",
       "      <td>790</td>\n",
       "      <td>44</td>\n",
       "      <td>http enfp intj moment http sportscent top ten ...</td>\n",
       "    </tr>\n",
       "    <tr>\n",
       "      <th>1</th>\n",
       "      <td>ENTP</td>\n",
       "      <td>'I'm finding the lack of me in these posts ver...</td>\n",
       "      <td>1</td>\n",
       "      <td>0</td>\n",
       "      <td>0</td>\n",
       "      <td>1</td>\n",
       "      <td>1466</td>\n",
       "      <td>107</td>\n",
       "      <td>find lack post alarm sex bore posit often exam...</td>\n",
       "    </tr>\n",
       "    <tr>\n",
       "      <th>2</th>\n",
       "      <td>INTP</td>\n",
       "      <td>'Good one  _____   https://www.youtube.com/wat...</td>\n",
       "      <td>0</td>\n",
       "      <td>0</td>\n",
       "      <td>0</td>\n",
       "      <td>1</td>\n",
       "      <td>1067</td>\n",
       "      <td>60</td>\n",
       "      <td>one http cours say know bless curs absolut pos...</td>\n",
       "    </tr>\n",
       "    <tr>\n",
       "      <th>3</th>\n",
       "      <td>INTJ</td>\n",
       "      <td>'Dear INTP,   I enjoyed our conversation the o...</td>\n",
       "      <td>0</td>\n",
       "      <td>0</td>\n",
       "      <td>0</td>\n",
       "      <td>0</td>\n",
       "      <td>1350</td>\n",
       "      <td>99</td>\n",
       "      <td>intp enjoy convers day esoter gab natur univer...</td>\n",
       "    </tr>\n",
       "    <tr>\n",
       "      <th>4</th>\n",
       "      <td>ENTJ</td>\n",
       "      <td>'You're fired. That's another silly misconcept...</td>\n",
       "      <td>1</td>\n",
       "      <td>0</td>\n",
       "      <td>0</td>\n",
       "      <td>0</td>\n",
       "      <td>1211</td>\n",
       "      <td>93</td>\n",
       "      <td>fire anoth silli misconcept approach logic go ...</td>\n",
       "    </tr>\n",
       "  </tbody>\n",
       "</table>\n",
       "</div>"
      ],
      "text/plain": [
       "   type                                              posts  I-E  N-S  T-F  \\\n",
       "0  INFJ  'http://www.youtube.com/watch?v=qsXHcwe3krw ht...    0    0    1   \n",
       "1  ENTP  'I'm finding the lack of me in these posts ver...    1    0    0   \n",
       "2  INTP  'Good one  _____   https://www.youtube.com/wat...    0    0    0   \n",
       "3  INTJ  'Dear INTP,   I enjoyed our conversation the o...    0    0    0   \n",
       "4  ENTJ  'You're fired. That's another silly misconcept...    1    0    0   \n",
       "\n",
       "   J-P  num_words  num_sentences  \\\n",
       "0    0        790             44   \n",
       "1    1       1466            107   \n",
       "2    1       1067             60   \n",
       "3    0       1350             99   \n",
       "4    0       1211             93   \n",
       "\n",
       "                                   transformed_posts  \n",
       "0  http enfp intj moment http sportscent top ten ...  \n",
       "1  find lack post alarm sex bore posit often exam...  \n",
       "2  one http cours say know bless curs absolut pos...  \n",
       "3  intp enjoy convers day esoter gab natur univer...  \n",
       "4  fire anoth silli misconcept approach logic go ...  "
      ]
     },
     "metadata": {},
     "execution_count": 14
    }
   ],
   "metadata": {}
  },
  {
   "cell_type": "code",
   "execution_count": 4,
   "source": [
    "df = pd.read_csv('feature_set.csv')"
   ],
   "outputs": [],
   "metadata": {}
  },
  {
   "cell_type": "code",
   "execution_count": 9,
   "source": [
    "df.head()"
   ],
   "outputs": [
    {
     "output_type": "execute_result",
     "data": {
      "text/html": [
       "<div>\n",
       "<style scoped>\n",
       "    .dataframe tbody tr th:only-of-type {\n",
       "        vertical-align: middle;\n",
       "    }\n",
       "\n",
       "    .dataframe tbody tr th {\n",
       "        vertical-align: top;\n",
       "    }\n",
       "\n",
       "    .dataframe thead th {\n",
       "        text-align: right;\n",
       "    }\n",
       "</style>\n",
       "<table border=\"1\" class=\"dataframe\">\n",
       "  <thead>\n",
       "    <tr style=\"text-align: right;\">\n",
       "      <th></th>\n",
       "      <th>Unnamed: 0</th>\n",
       "      <th>transformed_posts</th>\n",
       "      <th>num_words</th>\n",
       "      <th>num_sentences</th>\n",
       "      <th>http_per_comment</th>\n",
       "      <th>words_per_comment</th>\n",
       "      <th>emoticons_per_comment</th>\n",
       "      <th>ttr</th>\n",
       "      <th>nrc_emotion</th>\n",
       "      <th>nrc_vad</th>\n",
       "    </tr>\n",
       "  </thead>\n",
       "  <tbody>\n",
       "    <tr>\n",
       "      <th>0</th>\n",
       "      <td>0</td>\n",
       "      <td>http enfp intj moment http sportscent top ten ...</td>\n",
       "      <td>790</td>\n",
       "      <td>44</td>\n",
       "      <td>0.48</td>\n",
       "      <td>12.10</td>\n",
       "      <td>0</td>\n",
       "      <td>0.090250</td>\n",
       "      <td>9.375</td>\n",
       "      <td>0</td>\n",
       "    </tr>\n",
       "    <tr>\n",
       "      <th>1</th>\n",
       "      <td>1</td>\n",
       "      <td>find lack post alarm sex bore posit often exam...</td>\n",
       "      <td>1466</td>\n",
       "      <td>107</td>\n",
       "      <td>0.20</td>\n",
       "      <td>24.38</td>\n",
       "      <td>0</td>\n",
       "      <td>0.089432</td>\n",
       "      <td>17.750</td>\n",
       "      <td>1</td>\n",
       "    </tr>\n",
       "    <tr>\n",
       "      <th>2</th>\n",
       "      <td>2</td>\n",
       "      <td>one http cours say know bless curs absolut pos...</td>\n",
       "      <td>1067</td>\n",
       "      <td>60</td>\n",
       "      <td>0.10</td>\n",
       "      <td>17.70</td>\n",
       "      <td>0</td>\n",
       "      <td>0.103735</td>\n",
       "      <td>17.125</td>\n",
       "      <td>1</td>\n",
       "    </tr>\n",
       "    <tr>\n",
       "      <th>3</th>\n",
       "      <td>3</td>\n",
       "      <td>intp enjoy convers day esoter gab natur univer...</td>\n",
       "      <td>1350</td>\n",
       "      <td>99</td>\n",
       "      <td>0.04</td>\n",
       "      <td>22.26</td>\n",
       "      <td>0</td>\n",
       "      <td>0.096549</td>\n",
       "      <td>9.625</td>\n",
       "      <td>0</td>\n",
       "    </tr>\n",
       "    <tr>\n",
       "      <th>4</th>\n",
       "      <td>4</td>\n",
       "      <td>fire anoth silli misconcept approach logic go ...</td>\n",
       "      <td>1211</td>\n",
       "      <td>93</td>\n",
       "      <td>0.12</td>\n",
       "      <td>20.32</td>\n",
       "      <td>0</td>\n",
       "      <td>0.092466</td>\n",
       "      <td>20.125</td>\n",
       "      <td>0</td>\n",
       "    </tr>\n",
       "  </tbody>\n",
       "</table>\n",
       "</div>"
      ],
      "text/plain": [
       "   Unnamed: 0                                  transformed_posts  num_words  \\\n",
       "0           0  http enfp intj moment http sportscent top ten ...        790   \n",
       "1           1  find lack post alarm sex bore posit often exam...       1466   \n",
       "2           2  one http cours say know bless curs absolut pos...       1067   \n",
       "3           3  intp enjoy convers day esoter gab natur univer...       1350   \n",
       "4           4  fire anoth silli misconcept approach logic go ...       1211   \n",
       "\n",
       "   num_sentences  http_per_comment  words_per_comment  emoticons_per_comment  \\\n",
       "0             44              0.48              12.10                      0   \n",
       "1            107              0.20              24.38                      0   \n",
       "2             60              0.10              17.70                      0   \n",
       "3             99              0.04              22.26                      0   \n",
       "4             93              0.12              20.32                      0   \n",
       "\n",
       "        ttr  nrc_emotion  nrc_vad  \n",
       "0  0.090250        9.375        0  \n",
       "1  0.089432       17.750        1  \n",
       "2  0.103735       17.125        1  \n",
       "3  0.096549        9.625        0  \n",
       "4  0.092466       20.125        0  "
      ]
     },
     "metadata": {},
     "execution_count": 9
    }
   ],
   "metadata": {}
  },
  {
   "cell_type": "code",
   "execution_count": 22,
   "source": [
    "df.drop('Unnamed: 0',axis=1,inplace = True)"
   ],
   "outputs": [],
   "metadata": {}
  },
  {
   "cell_type": "code",
   "execution_count": 23,
   "source": [
    "df.head()"
   ],
   "outputs": [
    {
     "output_type": "execute_result",
     "data": {
      "text/html": [
       "<div>\n",
       "<style scoped>\n",
       "    .dataframe tbody tr th:only-of-type {\n",
       "        vertical-align: middle;\n",
       "    }\n",
       "\n",
       "    .dataframe tbody tr th {\n",
       "        vertical-align: top;\n",
       "    }\n",
       "\n",
       "    .dataframe thead th {\n",
       "        text-align: right;\n",
       "    }\n",
       "</style>\n",
       "<table border=\"1\" class=\"dataframe\">\n",
       "  <thead>\n",
       "    <tr style=\"text-align: right;\">\n",
       "      <th></th>\n",
       "      <th>transformed_posts</th>\n",
       "      <th>num_words</th>\n",
       "      <th>num_sentences</th>\n",
       "      <th>http_per_comment</th>\n",
       "      <th>words_per_comment</th>\n",
       "      <th>emoticons_per_comment</th>\n",
       "      <th>ttr</th>\n",
       "      <th>nrc_emotion</th>\n",
       "      <th>nrc_vad</th>\n",
       "    </tr>\n",
       "  </thead>\n",
       "  <tbody>\n",
       "    <tr>\n",
       "      <th>0</th>\n",
       "      <td>http enfp intj moment http sportscent top ten ...</td>\n",
       "      <td>790</td>\n",
       "      <td>44</td>\n",
       "      <td>0.48</td>\n",
       "      <td>12.10</td>\n",
       "      <td>0</td>\n",
       "      <td>0.090250</td>\n",
       "      <td>9.375</td>\n",
       "      <td>0</td>\n",
       "    </tr>\n",
       "    <tr>\n",
       "      <th>1</th>\n",
       "      <td>find lack post alarm sex bore posit often exam...</td>\n",
       "      <td>1466</td>\n",
       "      <td>107</td>\n",
       "      <td>0.20</td>\n",
       "      <td>24.38</td>\n",
       "      <td>0</td>\n",
       "      <td>0.089432</td>\n",
       "      <td>17.750</td>\n",
       "      <td>1</td>\n",
       "    </tr>\n",
       "    <tr>\n",
       "      <th>2</th>\n",
       "      <td>one http cours say know bless curs absolut pos...</td>\n",
       "      <td>1067</td>\n",
       "      <td>60</td>\n",
       "      <td>0.10</td>\n",
       "      <td>17.70</td>\n",
       "      <td>0</td>\n",
       "      <td>0.103735</td>\n",
       "      <td>17.125</td>\n",
       "      <td>1</td>\n",
       "    </tr>\n",
       "    <tr>\n",
       "      <th>3</th>\n",
       "      <td>intp enjoy convers day esoter gab natur univer...</td>\n",
       "      <td>1350</td>\n",
       "      <td>99</td>\n",
       "      <td>0.04</td>\n",
       "      <td>22.26</td>\n",
       "      <td>0</td>\n",
       "      <td>0.096549</td>\n",
       "      <td>9.625</td>\n",
       "      <td>0</td>\n",
       "    </tr>\n",
       "    <tr>\n",
       "      <th>4</th>\n",
       "      <td>fire anoth silli misconcept approach logic go ...</td>\n",
       "      <td>1211</td>\n",
       "      <td>93</td>\n",
       "      <td>0.12</td>\n",
       "      <td>20.32</td>\n",
       "      <td>0</td>\n",
       "      <td>0.092466</td>\n",
       "      <td>20.125</td>\n",
       "      <td>0</td>\n",
       "    </tr>\n",
       "  </tbody>\n",
       "</table>\n",
       "</div>"
      ],
      "text/plain": [
       "                                   transformed_posts  num_words  \\\n",
       "0  http enfp intj moment http sportscent top ten ...        790   \n",
       "1  find lack post alarm sex bore posit often exam...       1466   \n",
       "2  one http cours say know bless curs absolut pos...       1067   \n",
       "3  intp enjoy convers day esoter gab natur univer...       1350   \n",
       "4  fire anoth silli misconcept approach logic go ...       1211   \n",
       "\n",
       "   num_sentences  http_per_comment  words_per_comment  emoticons_per_comment  \\\n",
       "0             44              0.48              12.10                      0   \n",
       "1            107              0.20              24.38                      0   \n",
       "2             60              0.10              17.70                      0   \n",
       "3             99              0.04              22.26                      0   \n",
       "4             93              0.12              20.32                      0   \n",
       "\n",
       "        ttr  nrc_emotion  nrc_vad  \n",
       "0  0.090250        9.375        0  \n",
       "1  0.089432       17.750        1  \n",
       "2  0.103735       17.125        1  \n",
       "3  0.096549        9.625        0  \n",
       "4  0.092466       20.125        0  "
      ]
     },
     "metadata": {},
     "execution_count": 23
    }
   ],
   "metadata": {}
  },
  {
   "cell_type": "code",
   "execution_count": 24,
   "source": [
    "list(df.columns)"
   ],
   "outputs": [
    {
     "output_type": "execute_result",
     "data": {
      "text/plain": [
       "['transformed_posts',\n",
       " 'num_words',\n",
       " 'num_sentences',\n",
       " 'http_per_comment',\n",
       " 'words_per_comment',\n",
       " 'emoticons_per_comment',\n",
       " 'ttr',\n",
       " 'nrc_emotion',\n",
       " 'nrc_vad']"
      ]
     },
     "metadata": {},
     "execution_count": 24
    }
   ],
   "metadata": {}
  },
  {
   "cell_type": "code",
   "execution_count": null,
   "source": [],
   "outputs": [],
   "metadata": {}
  }
 ],
 "metadata": {
  "orig_nbformat": 4,
  "language_info": {
   "name": "python",
   "version": "3.9.7",
   "mimetype": "text/x-python",
   "codemirror_mode": {
    "name": "ipython",
    "version": 3
   },
   "pygments_lexer": "ipython3",
   "nbconvert_exporter": "python",
   "file_extension": ".py"
  },
  "kernelspec": {
   "name": "python3",
   "display_name": "Python 3.9.7 64-bit (conda)"
  },
  "interpreter": {
   "hash": "c1866a2fb72fb54110f887446cfe8fa2c668e04207a1d0e5c576e7794b878bcf"
  }
 },
 "nbformat": 4,
 "nbformat_minor": 2
}